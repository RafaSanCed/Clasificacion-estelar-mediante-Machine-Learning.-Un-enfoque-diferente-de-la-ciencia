{
 "cells": [
  {
   "cell_type": "markdown",
   "id": "5dad9748",
   "metadata": {},
   "source": [
    "# Creación de modelos"
   ]
  },
  {
   "cell_type": "markdown",
   "id": "0262f211",
   "metadata": {},
   "source": [
    "## Importamos librerías"
   ]
  },
  {
   "cell_type": "code",
   "execution_count": 2,
   "id": "f7da9dc1",
   "metadata": {
    "ExecuteTime": {
     "end_time": "2022-12-02T04:05:41.508332Z",
     "start_time": "2022-12-02T04:05:41.116133Z"
    }
   },
   "outputs": [],
   "source": [
    "import pandas as pd\n",
    "import numpy as np"
   ]
  },
  {
   "cell_type": "markdown",
   "id": "ad8fcfe8",
   "metadata": {},
   "source": [
    "## Importamos los datos procesados"
   ]
  },
  {
   "cell_type": "code",
   "execution_count": 3,
   "id": "b65e5903",
   "metadata": {
    "ExecuteTime": {
     "end_time": "2022-12-02T04:05:41.973764Z",
     "start_time": "2022-12-02T04:05:41.840988Z"
    }
   },
   "outputs": [
    {
     "data": {
      "text/html": [
       "<div>\n",
       "<style scoped>\n",
       "    .dataframe tbody tr th:only-of-type {\n",
       "        vertical-align: middle;\n",
       "    }\n",
       "\n",
       "    .dataframe tbody tr th {\n",
       "        vertical-align: top;\n",
       "    }\n",
       "\n",
       "    .dataframe thead th {\n",
       "        text-align: right;\n",
       "    }\n",
       "</style>\n",
       "<table border=\"1\" class=\"dataframe\">\n",
       "  <thead>\n",
       "    <tr style=\"text-align: right;\">\n",
       "      <th></th>\n",
       "      <th>alpha</th>\n",
       "      <th>delta</th>\n",
       "      <th>u</th>\n",
       "      <th>r</th>\n",
       "      <th>i</th>\n",
       "      <th>run_ID</th>\n",
       "      <th>cam_col</th>\n",
       "      <th>field_ID</th>\n",
       "      <th>class</th>\n",
       "      <th>redshift</th>\n",
       "      <th>MJD</th>\n",
       "      <th>fiber_ID</th>\n",
       "    </tr>\n",
       "  </thead>\n",
       "  <tbody>\n",
       "    <tr>\n",
       "      <th>0</th>\n",
       "      <td>135.689107</td>\n",
       "      <td>32.494632</td>\n",
       "      <td>23.87882</td>\n",
       "      <td>20.39501</td>\n",
       "      <td>19.16573</td>\n",
       "      <td>3606</td>\n",
       "      <td>2</td>\n",
       "      <td>79</td>\n",
       "      <td>0</td>\n",
       "      <td>0.634794</td>\n",
       "      <td>56354</td>\n",
       "      <td>171</td>\n",
       "    </tr>\n",
       "    <tr>\n",
       "      <th>1</th>\n",
       "      <td>144.826101</td>\n",
       "      <td>31.274185</td>\n",
       "      <td>24.77759</td>\n",
       "      <td>22.58444</td>\n",
       "      <td>21.16812</td>\n",
       "      <td>4518</td>\n",
       "      <td>5</td>\n",
       "      <td>119</td>\n",
       "      <td>0</td>\n",
       "      <td>0.779136</td>\n",
       "      <td>58158</td>\n",
       "      <td>427</td>\n",
       "    </tr>\n",
       "    <tr>\n",
       "      <th>2</th>\n",
       "      <td>142.188790</td>\n",
       "      <td>35.582444</td>\n",
       "      <td>25.26307</td>\n",
       "      <td>20.60976</td>\n",
       "      <td>19.34857</td>\n",
       "      <td>3606</td>\n",
       "      <td>2</td>\n",
       "      <td>120</td>\n",
       "      <td>0</td>\n",
       "      <td>0.644195</td>\n",
       "      <td>55592</td>\n",
       "      <td>299</td>\n",
       "    </tr>\n",
       "    <tr>\n",
       "      <th>3</th>\n",
       "      <td>338.741038</td>\n",
       "      <td>-0.402828</td>\n",
       "      <td>22.13682</td>\n",
       "      <td>21.61162</td>\n",
       "      <td>20.50454</td>\n",
       "      <td>4192</td>\n",
       "      <td>3</td>\n",
       "      <td>214</td>\n",
       "      <td>0</td>\n",
       "      <td>0.932346</td>\n",
       "      <td>58039</td>\n",
       "      <td>775</td>\n",
       "    </tr>\n",
       "    <tr>\n",
       "      <th>4</th>\n",
       "      <td>345.282593</td>\n",
       "      <td>21.183866</td>\n",
       "      <td>19.43718</td>\n",
       "      <td>16.49747</td>\n",
       "      <td>15.97711</td>\n",
       "      <td>8102</td>\n",
       "      <td>3</td>\n",
       "      <td>137</td>\n",
       "      <td>0</td>\n",
       "      <td>0.116123</td>\n",
       "      <td>56187</td>\n",
       "      <td>842</td>\n",
       "    </tr>\n",
       "    <tr>\n",
       "      <th>...</th>\n",
       "      <td>...</td>\n",
       "      <td>...</td>\n",
       "      <td>...</td>\n",
       "      <td>...</td>\n",
       "      <td>...</td>\n",
       "      <td>...</td>\n",
       "      <td>...</td>\n",
       "      <td>...</td>\n",
       "      <td>...</td>\n",
       "      <td>...</td>\n",
       "      <td>...</td>\n",
       "      <td>...</td>\n",
       "    </tr>\n",
       "    <tr>\n",
       "      <th>99995</th>\n",
       "      <td>39.620709</td>\n",
       "      <td>-2.594074</td>\n",
       "      <td>22.16759</td>\n",
       "      <td>21.90404</td>\n",
       "      <td>21.30548</td>\n",
       "      <td>7778</td>\n",
       "      <td>2</td>\n",
       "      <td>581</td>\n",
       "      <td>0</td>\n",
       "      <td>0.000000</td>\n",
       "      <td>57749</td>\n",
       "      <td>438</td>\n",
       "    </tr>\n",
       "    <tr>\n",
       "      <th>99996</th>\n",
       "      <td>29.493819</td>\n",
       "      <td>19.798874</td>\n",
       "      <td>22.69118</td>\n",
       "      <td>20.45003</td>\n",
       "      <td>19.75759</td>\n",
       "      <td>7917</td>\n",
       "      <td>1</td>\n",
       "      <td>289</td>\n",
       "      <td>0</td>\n",
       "      <td>0.404895</td>\n",
       "      <td>56934</td>\n",
       "      <td>866</td>\n",
       "    </tr>\n",
       "    <tr>\n",
       "      <th>99997</th>\n",
       "      <td>224.587407</td>\n",
       "      <td>15.700707</td>\n",
       "      <td>21.16916</td>\n",
       "      <td>18.20428</td>\n",
       "      <td>17.69034</td>\n",
       "      <td>5314</td>\n",
       "      <td>4</td>\n",
       "      <td>308</td>\n",
       "      <td>0</td>\n",
       "      <td>0.143366</td>\n",
       "      <td>54535</td>\n",
       "      <td>74</td>\n",
       "    </tr>\n",
       "    <tr>\n",
       "      <th>99998</th>\n",
       "      <td>212.268621</td>\n",
       "      <td>46.660365</td>\n",
       "      <td>25.35039</td>\n",
       "      <td>19.91386</td>\n",
       "      <td>19.07254</td>\n",
       "      <td>3650</td>\n",
       "      <td>4</td>\n",
       "      <td>131</td>\n",
       "      <td>0</td>\n",
       "      <td>0.455040</td>\n",
       "      <td>56368</td>\n",
       "      <td>470</td>\n",
       "    </tr>\n",
       "    <tr>\n",
       "      <th>99999</th>\n",
       "      <td>196.896053</td>\n",
       "      <td>49.464643</td>\n",
       "      <td>22.62171</td>\n",
       "      <td>20.60115</td>\n",
       "      <td>20.00959</td>\n",
       "      <td>3650</td>\n",
       "      <td>4</td>\n",
       "      <td>60</td>\n",
       "      <td>0</td>\n",
       "      <td>0.542944</td>\n",
       "      <td>57104</td>\n",
       "      <td>851</td>\n",
       "    </tr>\n",
       "  </tbody>\n",
       "</table>\n",
       "<p>100000 rows × 12 columns</p>\n",
       "</div>"
      ],
      "text/plain": [
       "            alpha      delta         u         r         i  run_ID  cam_col  \\\n",
       "0      135.689107  32.494632  23.87882  20.39501  19.16573    3606        2   \n",
       "1      144.826101  31.274185  24.77759  22.58444  21.16812    4518        5   \n",
       "2      142.188790  35.582444  25.26307  20.60976  19.34857    3606        2   \n",
       "3      338.741038  -0.402828  22.13682  21.61162  20.50454    4192        3   \n",
       "4      345.282593  21.183866  19.43718  16.49747  15.97711    8102        3   \n",
       "...           ...        ...       ...       ...       ...     ...      ...   \n",
       "99995   39.620709  -2.594074  22.16759  21.90404  21.30548    7778        2   \n",
       "99996   29.493819  19.798874  22.69118  20.45003  19.75759    7917        1   \n",
       "99997  224.587407  15.700707  21.16916  18.20428  17.69034    5314        4   \n",
       "99998  212.268621  46.660365  25.35039  19.91386  19.07254    3650        4   \n",
       "99999  196.896053  49.464643  22.62171  20.60115  20.00959    3650        4   \n",
       "\n",
       "       field_ID  class  redshift    MJD  fiber_ID  \n",
       "0            79      0  0.634794  56354       171  \n",
       "1           119      0  0.779136  58158       427  \n",
       "2           120      0  0.644195  55592       299  \n",
       "3           214      0  0.932346  58039       775  \n",
       "4           137      0  0.116123  56187       842  \n",
       "...         ...    ...       ...    ...       ...  \n",
       "99995       581      0  0.000000  57749       438  \n",
       "99996       289      0  0.404895  56934       866  \n",
       "99997       308      0  0.143366  54535        74  \n",
       "99998       131      0  0.455040  56368       470  \n",
       "99999        60      0  0.542944  57104       851  \n",
       "\n",
       "[100000 rows x 12 columns]"
      ]
     },
     "execution_count": 3,
     "metadata": {},
     "output_type": "execute_result"
    }
   ],
   "source": [
    "df = pd.read_csv('../Data/Processed/processed_data.csv')\n",
    "df"
   ]
  },
  {
   "cell_type": "markdown",
   "id": "6e689bf6",
   "metadata": {},
   "source": [
    "## Separamos variables"
   ]
  },
  {
   "cell_type": "code",
   "execution_count": 4,
   "id": "95675801",
   "metadata": {
    "ExecuteTime": {
     "end_time": "2022-12-02T04:05:42.347133Z",
     "start_time": "2022-12-02T04:05:42.326132Z"
    }
   },
   "outputs": [
    {
     "data": {
      "text/html": [
       "<div>\n",
       "<style scoped>\n",
       "    .dataframe tbody tr th:only-of-type {\n",
       "        vertical-align: middle;\n",
       "    }\n",
       "\n",
       "    .dataframe tbody tr th {\n",
       "        vertical-align: top;\n",
       "    }\n",
       "\n",
       "    .dataframe thead th {\n",
       "        text-align: right;\n",
       "    }\n",
       "</style>\n",
       "<table border=\"1\" class=\"dataframe\">\n",
       "  <thead>\n",
       "    <tr style=\"text-align: right;\">\n",
       "      <th></th>\n",
       "      <th>alpha</th>\n",
       "      <th>delta</th>\n",
       "      <th>u</th>\n",
       "      <th>r</th>\n",
       "      <th>i</th>\n",
       "      <th>run_ID</th>\n",
       "      <th>cam_col</th>\n",
       "      <th>field_ID</th>\n",
       "      <th>redshift</th>\n",
       "      <th>MJD</th>\n",
       "      <th>fiber_ID</th>\n",
       "    </tr>\n",
       "  </thead>\n",
       "  <tbody>\n",
       "    <tr>\n",
       "      <th>0</th>\n",
       "      <td>135.689107</td>\n",
       "      <td>32.494632</td>\n",
       "      <td>23.87882</td>\n",
       "      <td>20.39501</td>\n",
       "      <td>19.16573</td>\n",
       "      <td>3606</td>\n",
       "      <td>2</td>\n",
       "      <td>79</td>\n",
       "      <td>0.634794</td>\n",
       "      <td>56354</td>\n",
       "      <td>171</td>\n",
       "    </tr>\n",
       "    <tr>\n",
       "      <th>1</th>\n",
       "      <td>144.826101</td>\n",
       "      <td>31.274185</td>\n",
       "      <td>24.77759</td>\n",
       "      <td>22.58444</td>\n",
       "      <td>21.16812</td>\n",
       "      <td>4518</td>\n",
       "      <td>5</td>\n",
       "      <td>119</td>\n",
       "      <td>0.779136</td>\n",
       "      <td>58158</td>\n",
       "      <td>427</td>\n",
       "    </tr>\n",
       "    <tr>\n",
       "      <th>2</th>\n",
       "      <td>142.188790</td>\n",
       "      <td>35.582444</td>\n",
       "      <td>25.26307</td>\n",
       "      <td>20.60976</td>\n",
       "      <td>19.34857</td>\n",
       "      <td>3606</td>\n",
       "      <td>2</td>\n",
       "      <td>120</td>\n",
       "      <td>0.644195</td>\n",
       "      <td>55592</td>\n",
       "      <td>299</td>\n",
       "    </tr>\n",
       "    <tr>\n",
       "      <th>3</th>\n",
       "      <td>338.741038</td>\n",
       "      <td>-0.402828</td>\n",
       "      <td>22.13682</td>\n",
       "      <td>21.61162</td>\n",
       "      <td>20.50454</td>\n",
       "      <td>4192</td>\n",
       "      <td>3</td>\n",
       "      <td>214</td>\n",
       "      <td>0.932346</td>\n",
       "      <td>58039</td>\n",
       "      <td>775</td>\n",
       "    </tr>\n",
       "    <tr>\n",
       "      <th>4</th>\n",
       "      <td>345.282593</td>\n",
       "      <td>21.183866</td>\n",
       "      <td>19.43718</td>\n",
       "      <td>16.49747</td>\n",
       "      <td>15.97711</td>\n",
       "      <td>8102</td>\n",
       "      <td>3</td>\n",
       "      <td>137</td>\n",
       "      <td>0.116123</td>\n",
       "      <td>56187</td>\n",
       "      <td>842</td>\n",
       "    </tr>\n",
       "    <tr>\n",
       "      <th>...</th>\n",
       "      <td>...</td>\n",
       "      <td>...</td>\n",
       "      <td>...</td>\n",
       "      <td>...</td>\n",
       "      <td>...</td>\n",
       "      <td>...</td>\n",
       "      <td>...</td>\n",
       "      <td>...</td>\n",
       "      <td>...</td>\n",
       "      <td>...</td>\n",
       "      <td>...</td>\n",
       "    </tr>\n",
       "    <tr>\n",
       "      <th>99995</th>\n",
       "      <td>39.620709</td>\n",
       "      <td>-2.594074</td>\n",
       "      <td>22.16759</td>\n",
       "      <td>21.90404</td>\n",
       "      <td>21.30548</td>\n",
       "      <td>7778</td>\n",
       "      <td>2</td>\n",
       "      <td>581</td>\n",
       "      <td>0.000000</td>\n",
       "      <td>57749</td>\n",
       "      <td>438</td>\n",
       "    </tr>\n",
       "    <tr>\n",
       "      <th>99996</th>\n",
       "      <td>29.493819</td>\n",
       "      <td>19.798874</td>\n",
       "      <td>22.69118</td>\n",
       "      <td>20.45003</td>\n",
       "      <td>19.75759</td>\n",
       "      <td>7917</td>\n",
       "      <td>1</td>\n",
       "      <td>289</td>\n",
       "      <td>0.404895</td>\n",
       "      <td>56934</td>\n",
       "      <td>866</td>\n",
       "    </tr>\n",
       "    <tr>\n",
       "      <th>99997</th>\n",
       "      <td>224.587407</td>\n",
       "      <td>15.700707</td>\n",
       "      <td>21.16916</td>\n",
       "      <td>18.20428</td>\n",
       "      <td>17.69034</td>\n",
       "      <td>5314</td>\n",
       "      <td>4</td>\n",
       "      <td>308</td>\n",
       "      <td>0.143366</td>\n",
       "      <td>54535</td>\n",
       "      <td>74</td>\n",
       "    </tr>\n",
       "    <tr>\n",
       "      <th>99998</th>\n",
       "      <td>212.268621</td>\n",
       "      <td>46.660365</td>\n",
       "      <td>25.35039</td>\n",
       "      <td>19.91386</td>\n",
       "      <td>19.07254</td>\n",
       "      <td>3650</td>\n",
       "      <td>4</td>\n",
       "      <td>131</td>\n",
       "      <td>0.455040</td>\n",
       "      <td>56368</td>\n",
       "      <td>470</td>\n",
       "    </tr>\n",
       "    <tr>\n",
       "      <th>99999</th>\n",
       "      <td>196.896053</td>\n",
       "      <td>49.464643</td>\n",
       "      <td>22.62171</td>\n",
       "      <td>20.60115</td>\n",
       "      <td>20.00959</td>\n",
       "      <td>3650</td>\n",
       "      <td>4</td>\n",
       "      <td>60</td>\n",
       "      <td>0.542944</td>\n",
       "      <td>57104</td>\n",
       "      <td>851</td>\n",
       "    </tr>\n",
       "  </tbody>\n",
       "</table>\n",
       "<p>100000 rows × 11 columns</p>\n",
       "</div>"
      ],
      "text/plain": [
       "            alpha      delta         u         r         i  run_ID  cam_col  \\\n",
       "0      135.689107  32.494632  23.87882  20.39501  19.16573    3606        2   \n",
       "1      144.826101  31.274185  24.77759  22.58444  21.16812    4518        5   \n",
       "2      142.188790  35.582444  25.26307  20.60976  19.34857    3606        2   \n",
       "3      338.741038  -0.402828  22.13682  21.61162  20.50454    4192        3   \n",
       "4      345.282593  21.183866  19.43718  16.49747  15.97711    8102        3   \n",
       "...           ...        ...       ...       ...       ...     ...      ...   \n",
       "99995   39.620709  -2.594074  22.16759  21.90404  21.30548    7778        2   \n",
       "99996   29.493819  19.798874  22.69118  20.45003  19.75759    7917        1   \n",
       "99997  224.587407  15.700707  21.16916  18.20428  17.69034    5314        4   \n",
       "99998  212.268621  46.660365  25.35039  19.91386  19.07254    3650        4   \n",
       "99999  196.896053  49.464643  22.62171  20.60115  20.00959    3650        4   \n",
       "\n",
       "       field_ID  redshift    MJD  fiber_ID  \n",
       "0            79  0.634794  56354       171  \n",
       "1           119  0.779136  58158       427  \n",
       "2           120  0.644195  55592       299  \n",
       "3           214  0.932346  58039       775  \n",
       "4           137  0.116123  56187       842  \n",
       "...         ...       ...    ...       ...  \n",
       "99995       581  0.000000  57749       438  \n",
       "99996       289  0.404895  56934       866  \n",
       "99997       308  0.143366  54535        74  \n",
       "99998       131  0.455040  56368       470  \n",
       "99999        60  0.542944  57104       851  \n",
       "\n",
       "[100000 rows x 11 columns]"
      ]
     },
     "execution_count": 4,
     "metadata": {},
     "output_type": "execute_result"
    }
   ],
   "source": [
    "X= df.drop(columns = [\"class\"]).copy(deep=True)\n",
    "X"
   ]
  },
  {
   "cell_type": "code",
   "execution_count": 5,
   "id": "d74fc391",
   "metadata": {
    "ExecuteTime": {
     "end_time": "2022-12-02T04:05:42.567079Z",
     "start_time": "2022-12-02T04:05:42.551079Z"
    }
   },
   "outputs": [
    {
     "data": {
      "text/html": [
       "<div>\n",
       "<style scoped>\n",
       "    .dataframe tbody tr th:only-of-type {\n",
       "        vertical-align: middle;\n",
       "    }\n",
       "\n",
       "    .dataframe tbody tr th {\n",
       "        vertical-align: top;\n",
       "    }\n",
       "\n",
       "    .dataframe thead th {\n",
       "        text-align: right;\n",
       "    }\n",
       "</style>\n",
       "<table border=\"1\" class=\"dataframe\">\n",
       "  <thead>\n",
       "    <tr style=\"text-align: right;\">\n",
       "      <th></th>\n",
       "      <th>redshift</th>\n",
       "      <th>i</th>\n",
       "      <th>MJD</th>\n",
       "      <th>r</th>\n",
       "    </tr>\n",
       "  </thead>\n",
       "  <tbody>\n",
       "    <tr>\n",
       "      <th>0</th>\n",
       "      <td>0.634794</td>\n",
       "      <td>19.16573</td>\n",
       "      <td>56354</td>\n",
       "      <td>20.39501</td>\n",
       "    </tr>\n",
       "    <tr>\n",
       "      <th>1</th>\n",
       "      <td>0.779136</td>\n",
       "      <td>21.16812</td>\n",
       "      <td>58158</td>\n",
       "      <td>22.58444</td>\n",
       "    </tr>\n",
       "    <tr>\n",
       "      <th>2</th>\n",
       "      <td>0.644195</td>\n",
       "      <td>19.34857</td>\n",
       "      <td>55592</td>\n",
       "      <td>20.60976</td>\n",
       "    </tr>\n",
       "    <tr>\n",
       "      <th>3</th>\n",
       "      <td>0.932346</td>\n",
       "      <td>20.50454</td>\n",
       "      <td>58039</td>\n",
       "      <td>21.61162</td>\n",
       "    </tr>\n",
       "    <tr>\n",
       "      <th>4</th>\n",
       "      <td>0.116123</td>\n",
       "      <td>15.97711</td>\n",
       "      <td>56187</td>\n",
       "      <td>16.49747</td>\n",
       "    </tr>\n",
       "    <tr>\n",
       "      <th>...</th>\n",
       "      <td>...</td>\n",
       "      <td>...</td>\n",
       "      <td>...</td>\n",
       "      <td>...</td>\n",
       "    </tr>\n",
       "    <tr>\n",
       "      <th>99995</th>\n",
       "      <td>0.000000</td>\n",
       "      <td>21.30548</td>\n",
       "      <td>57749</td>\n",
       "      <td>21.90404</td>\n",
       "    </tr>\n",
       "    <tr>\n",
       "      <th>99996</th>\n",
       "      <td>0.404895</td>\n",
       "      <td>19.75759</td>\n",
       "      <td>56934</td>\n",
       "      <td>20.45003</td>\n",
       "    </tr>\n",
       "    <tr>\n",
       "      <th>99997</th>\n",
       "      <td>0.143366</td>\n",
       "      <td>17.69034</td>\n",
       "      <td>54535</td>\n",
       "      <td>18.20428</td>\n",
       "    </tr>\n",
       "    <tr>\n",
       "      <th>99998</th>\n",
       "      <td>0.455040</td>\n",
       "      <td>19.07254</td>\n",
       "      <td>56368</td>\n",
       "      <td>19.91386</td>\n",
       "    </tr>\n",
       "    <tr>\n",
       "      <th>99999</th>\n",
       "      <td>0.542944</td>\n",
       "      <td>20.00959</td>\n",
       "      <td>57104</td>\n",
       "      <td>20.60115</td>\n",
       "    </tr>\n",
       "  </tbody>\n",
       "</table>\n",
       "<p>100000 rows × 4 columns</p>\n",
       "</div>"
      ],
      "text/plain": [
       "       redshift         i    MJD         r\n",
       "0      0.634794  19.16573  56354  20.39501\n",
       "1      0.779136  21.16812  58158  22.58444\n",
       "2      0.644195  19.34857  55592  20.60976\n",
       "3      0.932346  20.50454  58039  21.61162\n",
       "4      0.116123  15.97711  56187  16.49747\n",
       "...         ...       ...    ...       ...\n",
       "99995  0.000000  21.30548  57749  21.90404\n",
       "99996  0.404895  19.75759  56934  20.45003\n",
       "99997  0.143366  17.69034  54535  18.20428\n",
       "99998  0.455040  19.07254  56368  19.91386\n",
       "99999  0.542944  20.00959  57104  20.60115\n",
       "\n",
       "[100000 rows x 4 columns]"
      ]
     },
     "execution_count": 5,
     "metadata": {},
     "output_type": "execute_result"
    }
   ],
   "source": [
    "provariables = ['redshift', 'i', 'MJD', 'r']\n",
    "Xs = df[provariables]\n",
    "Xs"
   ]
  },
  {
   "cell_type": "code",
   "execution_count": 6,
   "id": "d0ef2680",
   "metadata": {
    "ExecuteTime": {
     "end_time": "2022-12-02T04:05:42.814124Z",
     "start_time": "2022-12-02T04:05:42.805125Z"
    }
   },
   "outputs": [
    {
     "data": {
      "text/plain": [
       "0        0\n",
       "1        0\n",
       "2        0\n",
       "3        0\n",
       "4        0\n",
       "        ..\n",
       "99995    0\n",
       "99996    0\n",
       "99997    0\n",
       "99998    0\n",
       "99999    0\n",
       "Name: class, Length: 100000, dtype: int64"
      ]
     },
     "execution_count": 6,
     "metadata": {},
     "output_type": "execute_result"
    }
   ],
   "source": [
    "y=df[\"class\"].copy(deep=True)\n",
    "y"
   ]
  },
  {
   "cell_type": "code",
   "execution_count": 7,
   "id": "71f2d190",
   "metadata": {
    "ExecuteTime": {
     "end_time": "2022-12-02T04:05:43.109123Z",
     "start_time": "2022-12-02T04:05:43.091123Z"
    }
   },
   "outputs": [
    {
     "data": {
      "text/plain": [
       "0        0\n",
       "1        0\n",
       "2        0\n",
       "3        0\n",
       "4        0\n",
       "        ..\n",
       "99995    0\n",
       "99996    0\n",
       "99997    0\n",
       "99998    0\n",
       "99999    0\n",
       "Name: class, Length: 100000, dtype: int64"
      ]
     },
     "execution_count": 7,
     "metadata": {},
     "output_type": "execute_result"
    }
   ],
   "source": [
    "ys=df[\"class\"].copy(deep=True)\n",
    "ys"
   ]
  },
  {
   "cell_type": "markdown",
   "id": "ae6b17e3",
   "metadata": {},
   "source": [
    "## Preparamos los datos para el entrenamiento"
   ]
  },
  {
   "cell_type": "code",
   "execution_count": 8,
   "id": "57441526",
   "metadata": {
    "ExecuteTime": {
     "end_time": "2022-12-02T04:05:43.691123Z",
     "start_time": "2022-12-02T04:05:43.676123Z"
    }
   },
   "outputs": [],
   "source": [
    "from sklearn.model_selection import train_test_split"
   ]
  },
  {
   "cell_type": "code",
   "execution_count": 135,
   "id": "bffdf8ad",
   "metadata": {
    "ExecuteTime": {
     "end_time": "2022-12-02T05:43:54.468953Z",
     "start_time": "2022-12-02T05:43:54.444197Z"
    }
   },
   "outputs": [],
   "source": [
    "X_train, X_test, y_train, y_test = train_test_split(\n",
    "    X, y, test_size=0.30, random_state=42)"
   ]
  },
  {
   "cell_type": "code",
   "execution_count": 136,
   "id": "316e1ef5",
   "metadata": {
    "ExecuteTime": {
     "end_time": "2022-12-02T05:43:55.402109Z",
     "start_time": "2022-12-02T05:43:55.384088Z"
    }
   },
   "outputs": [
    {
     "data": {
      "text/html": [
       "<div>\n",
       "<style scoped>\n",
       "    .dataframe tbody tr th:only-of-type {\n",
       "        vertical-align: middle;\n",
       "    }\n",
       "\n",
       "    .dataframe tbody tr th {\n",
       "        vertical-align: top;\n",
       "    }\n",
       "\n",
       "    .dataframe thead th {\n",
       "        text-align: right;\n",
       "    }\n",
       "</style>\n",
       "<table border=\"1\" class=\"dataframe\">\n",
       "  <thead>\n",
       "    <tr style=\"text-align: right;\">\n",
       "      <th></th>\n",
       "      <th>alpha</th>\n",
       "      <th>delta</th>\n",
       "      <th>u</th>\n",
       "      <th>r</th>\n",
       "      <th>i</th>\n",
       "      <th>run_ID</th>\n",
       "      <th>cam_col</th>\n",
       "      <th>field_ID</th>\n",
       "      <th>redshift</th>\n",
       "      <th>MJD</th>\n",
       "      <th>fiber_ID</th>\n",
       "    </tr>\n",
       "  </thead>\n",
       "  <tbody>\n",
       "    <tr>\n",
       "      <th>76513</th>\n",
       "      <td>130.932167</td>\n",
       "      <td>4.313411</td>\n",
       "      <td>20.13070</td>\n",
       "      <td>17.49792</td>\n",
       "      <td>17.06977</td>\n",
       "      <td>3015</td>\n",
       "      <td>3</td>\n",
       "      <td>112</td>\n",
       "      <td>0.155863</td>\n",
       "      <td>52650</td>\n",
       "      <td>165</td>\n",
       "    </tr>\n",
       "    <tr>\n",
       "      <th>60406</th>\n",
       "      <td>225.429599</td>\n",
       "      <td>33.172083</td>\n",
       "      <td>19.86315</td>\n",
       "      <td>18.59344</td>\n",
       "      <td>18.46922</td>\n",
       "      <td>3900</td>\n",
       "      <td>5</td>\n",
       "      <td>594</td>\n",
       "      <td>-0.000529</td>\n",
       "      <td>54652</td>\n",
       "      <td>374</td>\n",
       "    </tr>\n",
       "    <tr>\n",
       "      <th>27322</th>\n",
       "      <td>219.173525</td>\n",
       "      <td>55.511740</td>\n",
       "      <td>19.84785</td>\n",
       "      <td>16.71511</td>\n",
       "      <td>16.41555</td>\n",
       "      <td>3225</td>\n",
       "      <td>4</td>\n",
       "      <td>74</td>\n",
       "      <td>-0.000261</td>\n",
       "      <td>54909</td>\n",
       "      <td>475</td>\n",
       "    </tr>\n",
       "    <tr>\n",
       "      <th>53699</th>\n",
       "      <td>178.735461</td>\n",
       "      <td>36.044139</td>\n",
       "      <td>17.83635</td>\n",
       "      <td>15.82407</td>\n",
       "      <td>15.45751</td>\n",
       "      <td>4552</td>\n",
       "      <td>6</td>\n",
       "      <td>67</td>\n",
       "      <td>0.068444</td>\n",
       "      <td>53467</td>\n",
       "      <td>317</td>\n",
       "    </tr>\n",
       "    <tr>\n",
       "      <th>65412</th>\n",
       "      <td>192.807458</td>\n",
       "      <td>18.727770</td>\n",
       "      <td>24.27039</td>\n",
       "      <td>20.47710</td>\n",
       "      <td>19.45898</td>\n",
       "      <td>5314</td>\n",
       "      <td>1</td>\n",
       "      <td>105</td>\n",
       "      <td>0.540778</td>\n",
       "      <td>56065</td>\n",
       "      <td>510</td>\n",
       "    </tr>\n",
       "    <tr>\n",
       "      <th>...</th>\n",
       "      <td>...</td>\n",
       "      <td>...</td>\n",
       "      <td>...</td>\n",
       "      <td>...</td>\n",
       "      <td>...</td>\n",
       "      <td>...</td>\n",
       "      <td>...</td>\n",
       "      <td>...</td>\n",
       "      <td>...</td>\n",
       "      <td>...</td>\n",
       "      <td>...</td>\n",
       "    </tr>\n",
       "    <tr>\n",
       "      <th>6265</th>\n",
       "      <td>242.605987</td>\n",
       "      <td>36.722746</td>\n",
       "      <td>20.82854</td>\n",
       "      <td>20.25718</td>\n",
       "      <td>20.39426</td>\n",
       "      <td>3180</td>\n",
       "      <td>2</td>\n",
       "      <td>235</td>\n",
       "      <td>2.412806</td>\n",
       "      <td>58244</td>\n",
       "      <td>380</td>\n",
       "    </tr>\n",
       "    <tr>\n",
       "      <th>54886</th>\n",
       "      <td>171.747491</td>\n",
       "      <td>53.692339</td>\n",
       "      <td>18.93209</td>\n",
       "      <td>16.05940</td>\n",
       "      <td>15.64639</td>\n",
       "      <td>2821</td>\n",
       "      <td>2</td>\n",
       "      <td>151</td>\n",
       "      <td>0.081128</td>\n",
       "      <td>52707</td>\n",
       "      <td>104</td>\n",
       "    </tr>\n",
       "    <tr>\n",
       "      <th>76820</th>\n",
       "      <td>156.991726</td>\n",
       "      <td>38.612456</td>\n",
       "      <td>23.95684</td>\n",
       "      <td>19.75149</td>\n",
       "      <td>18.49137</td>\n",
       "      <td>3704</td>\n",
       "      <td>3</td>\n",
       "      <td>159</td>\n",
       "      <td>0.000253</td>\n",
       "      <td>54884</td>\n",
       "      <td>541</td>\n",
       "    </tr>\n",
       "    <tr>\n",
       "      <th>860</th>\n",
       "      <td>55.829432</td>\n",
       "      <td>9.764397</td>\n",
       "      <td>17.79224</td>\n",
       "      <td>15.84970</td>\n",
       "      <td>15.59104</td>\n",
       "      <td>6003</td>\n",
       "      <td>5</td>\n",
       "      <td>67</td>\n",
       "      <td>0.000000</td>\n",
       "      <td>54368</td>\n",
       "      <td>287</td>\n",
       "    </tr>\n",
       "    <tr>\n",
       "      <th>15795</th>\n",
       "      <td>189.902619</td>\n",
       "      <td>33.779591</td>\n",
       "      <td>24.93142</td>\n",
       "      <td>19.28560</td>\n",
       "      <td>18.66209</td>\n",
       "      <td>4576</td>\n",
       "      <td>1</td>\n",
       "      <td>475</td>\n",
       "      <td>0.352529</td>\n",
       "      <td>55322</td>\n",
       "      <td>450</td>\n",
       "    </tr>\n",
       "  </tbody>\n",
       "</table>\n",
       "<p>70000 rows × 11 columns</p>\n",
       "</div>"
      ],
      "text/plain": [
       "            alpha      delta         u         r         i  run_ID  cam_col  \\\n",
       "76513  130.932167   4.313411  20.13070  17.49792  17.06977    3015        3   \n",
       "60406  225.429599  33.172083  19.86315  18.59344  18.46922    3900        5   \n",
       "27322  219.173525  55.511740  19.84785  16.71511  16.41555    3225        4   \n",
       "53699  178.735461  36.044139  17.83635  15.82407  15.45751    4552        6   \n",
       "65412  192.807458  18.727770  24.27039  20.47710  19.45898    5314        1   \n",
       "...           ...        ...       ...       ...       ...     ...      ...   \n",
       "6265   242.605987  36.722746  20.82854  20.25718  20.39426    3180        2   \n",
       "54886  171.747491  53.692339  18.93209  16.05940  15.64639    2821        2   \n",
       "76820  156.991726  38.612456  23.95684  19.75149  18.49137    3704        3   \n",
       "860     55.829432   9.764397  17.79224  15.84970  15.59104    6003        5   \n",
       "15795  189.902619  33.779591  24.93142  19.28560  18.66209    4576        1   \n",
       "\n",
       "       field_ID  redshift    MJD  fiber_ID  \n",
       "76513       112  0.155863  52650       165  \n",
       "60406       594 -0.000529  54652       374  \n",
       "27322        74 -0.000261  54909       475  \n",
       "53699        67  0.068444  53467       317  \n",
       "65412       105  0.540778  56065       510  \n",
       "...         ...       ...    ...       ...  \n",
       "6265        235  2.412806  58244       380  \n",
       "54886       151  0.081128  52707       104  \n",
       "76820       159  0.000253  54884       541  \n",
       "860          67  0.000000  54368       287  \n",
       "15795       475  0.352529  55322       450  \n",
       "\n",
       "[70000 rows x 11 columns]"
      ]
     },
     "execution_count": 136,
     "metadata": {},
     "output_type": "execute_result"
    }
   ],
   "source": [
    "X_train"
   ]
  },
  {
   "cell_type": "code",
   "execution_count": 137,
   "id": "3dc2327b",
   "metadata": {
    "ExecuteTime": {
     "end_time": "2022-12-02T05:43:55.696549Z",
     "start_time": "2022-12-02T05:43:55.683038Z"
    }
   },
   "outputs": [
    {
     "data": {
      "text/html": [
       "<div>\n",
       "<style scoped>\n",
       "    .dataframe tbody tr th:only-of-type {\n",
       "        vertical-align: middle;\n",
       "    }\n",
       "\n",
       "    .dataframe tbody tr th {\n",
       "        vertical-align: top;\n",
       "    }\n",
       "\n",
       "    .dataframe thead th {\n",
       "        text-align: right;\n",
       "    }\n",
       "</style>\n",
       "<table border=\"1\" class=\"dataframe\">\n",
       "  <thead>\n",
       "    <tr style=\"text-align: right;\">\n",
       "      <th></th>\n",
       "      <th>alpha</th>\n",
       "      <th>delta</th>\n",
       "      <th>u</th>\n",
       "      <th>r</th>\n",
       "      <th>i</th>\n",
       "      <th>run_ID</th>\n",
       "      <th>cam_col</th>\n",
       "      <th>field_ID</th>\n",
       "      <th>redshift</th>\n",
       "      <th>MJD</th>\n",
       "      <th>fiber_ID</th>\n",
       "    </tr>\n",
       "  </thead>\n",
       "  <tbody>\n",
       "    <tr>\n",
       "      <th>75721</th>\n",
       "      <td>16.956890</td>\n",
       "      <td>3.646130</td>\n",
       "      <td>23.33542</td>\n",
       "      <td>20.48149</td>\n",
       "      <td>19.60300</td>\n",
       "      <td>7712</td>\n",
       "      <td>6</td>\n",
       "      <td>442</td>\n",
       "      <td>0.506237</td>\n",
       "      <td>55511</td>\n",
       "      <td>495</td>\n",
       "    </tr>\n",
       "    <tr>\n",
       "      <th>80184</th>\n",
       "      <td>240.063240</td>\n",
       "      <td>6.134131</td>\n",
       "      <td>17.86033</td>\n",
       "      <td>16.43001</td>\n",
       "      <td>16.30923</td>\n",
       "      <td>3894</td>\n",
       "      <td>1</td>\n",
       "      <td>243</td>\n",
       "      <td>0.000345</td>\n",
       "      <td>54612</td>\n",
       "      <td>348</td>\n",
       "    </tr>\n",
       "    <tr>\n",
       "      <th>19864</th>\n",
       "      <td>30.887222</td>\n",
       "      <td>1.188710</td>\n",
       "      <td>18.18911</td>\n",
       "      <td>16.42161</td>\n",
       "      <td>16.24627</td>\n",
       "      <td>7717</td>\n",
       "      <td>1</td>\n",
       "      <td>536</td>\n",
       "      <td>0.000004</td>\n",
       "      <td>56683</td>\n",
       "      <td>943</td>\n",
       "    </tr>\n",
       "    <tr>\n",
       "      <th>76699</th>\n",
       "      <td>247.594401</td>\n",
       "      <td>10.887780</td>\n",
       "      <td>24.99961</td>\n",
       "      <td>21.47148</td>\n",
       "      <td>21.30532</td>\n",
       "      <td>5323</td>\n",
       "      <td>1</td>\n",
       "      <td>134</td>\n",
       "      <td>-0.000291</td>\n",
       "      <td>55444</td>\n",
       "      <td>326</td>\n",
       "    </tr>\n",
       "    <tr>\n",
       "      <th>92991</th>\n",
       "      <td>18.896451</td>\n",
       "      <td>-5.261330</td>\n",
       "      <td>23.76648</td>\n",
       "      <td>20.69543</td>\n",
       "      <td>20.23403</td>\n",
       "      <td>7881</td>\n",
       "      <td>3</td>\n",
       "      <td>148</td>\n",
       "      <td>-0.000136</td>\n",
       "      <td>57331</td>\n",
       "      <td>363</td>\n",
       "    </tr>\n",
       "    <tr>\n",
       "      <th>...</th>\n",
       "      <td>...</td>\n",
       "      <td>...</td>\n",
       "      <td>...</td>\n",
       "      <td>...</td>\n",
       "      <td>...</td>\n",
       "      <td>...</td>\n",
       "      <td>...</td>\n",
       "      <td>...</td>\n",
       "      <td>...</td>\n",
       "      <td>...</td>\n",
       "      <td>...</td>\n",
       "    </tr>\n",
       "    <tr>\n",
       "      <th>42648</th>\n",
       "      <td>95.314424</td>\n",
       "      <td>1.320157</td>\n",
       "      <td>18.86225</td>\n",
       "      <td>16.77306</td>\n",
       "      <td>16.63181</td>\n",
       "      <td>307</td>\n",
       "      <td>6</td>\n",
       "      <td>129</td>\n",
       "      <td>0.000184</td>\n",
       "      <td>52931</td>\n",
       "      <td>556</td>\n",
       "    </tr>\n",
       "    <tr>\n",
       "      <th>86306</th>\n",
       "      <td>256.239646</td>\n",
       "      <td>36.085867</td>\n",
       "      <td>24.01340</td>\n",
       "      <td>21.27724</td>\n",
       "      <td>20.19680</td>\n",
       "      <td>2335</td>\n",
       "      <td>5</td>\n",
       "      <td>71</td>\n",
       "      <td>0.742717</td>\n",
       "      <td>58281</td>\n",
       "      <td>73</td>\n",
       "    </tr>\n",
       "    <tr>\n",
       "      <th>45466</th>\n",
       "      <td>209.415904</td>\n",
       "      <td>49.847828</td>\n",
       "      <td>22.96547</td>\n",
       "      <td>20.76264</td>\n",
       "      <td>20.54450</td>\n",
       "      <td>3918</td>\n",
       "      <td>3</td>\n",
       "      <td>109</td>\n",
       "      <td>-0.000238</td>\n",
       "      <td>57107</td>\n",
       "      <td>867</td>\n",
       "    </tr>\n",
       "    <tr>\n",
       "      <th>63724</th>\n",
       "      <td>226.833308</td>\n",
       "      <td>26.109964</td>\n",
       "      <td>19.43374</td>\n",
       "      <td>19.31334</td>\n",
       "      <td>19.08557</td>\n",
       "      <td>4588</td>\n",
       "      <td>5</td>\n",
       "      <td>134</td>\n",
       "      <td>1.687418</td>\n",
       "      <td>54539</td>\n",
       "      <td>254</td>\n",
       "    </tr>\n",
       "    <tr>\n",
       "      <th>34122</th>\n",
       "      <td>46.955845</td>\n",
       "      <td>0.855016</td>\n",
       "      <td>22.63321</td>\n",
       "      <td>19.37463</td>\n",
       "      <td>18.11353</td>\n",
       "      <td>3438</td>\n",
       "      <td>6</td>\n",
       "      <td>113</td>\n",
       "      <td>0.000159</td>\n",
       "      <td>52589</td>\n",
       "      <td>378</td>\n",
       "    </tr>\n",
       "  </tbody>\n",
       "</table>\n",
       "<p>30000 rows × 11 columns</p>\n",
       "</div>"
      ],
      "text/plain": [
       "            alpha      delta         u         r         i  run_ID  cam_col  \\\n",
       "75721   16.956890   3.646130  23.33542  20.48149  19.60300    7712        6   \n",
       "80184  240.063240   6.134131  17.86033  16.43001  16.30923    3894        1   \n",
       "19864   30.887222   1.188710  18.18911  16.42161  16.24627    7717        1   \n",
       "76699  247.594401  10.887780  24.99961  21.47148  21.30532    5323        1   \n",
       "92991   18.896451  -5.261330  23.76648  20.69543  20.23403    7881        3   \n",
       "...           ...        ...       ...       ...       ...     ...      ...   \n",
       "42648   95.314424   1.320157  18.86225  16.77306  16.63181     307        6   \n",
       "86306  256.239646  36.085867  24.01340  21.27724  20.19680    2335        5   \n",
       "45466  209.415904  49.847828  22.96547  20.76264  20.54450    3918        3   \n",
       "63724  226.833308  26.109964  19.43374  19.31334  19.08557    4588        5   \n",
       "34122   46.955845   0.855016  22.63321  19.37463  18.11353    3438        6   \n",
       "\n",
       "       field_ID  redshift    MJD  fiber_ID  \n",
       "75721       442  0.506237  55511       495  \n",
       "80184       243  0.000345  54612       348  \n",
       "19864       536  0.000004  56683       943  \n",
       "76699       134 -0.000291  55444       326  \n",
       "92991       148 -0.000136  57331       363  \n",
       "...         ...       ...    ...       ...  \n",
       "42648       129  0.000184  52931       556  \n",
       "86306        71  0.742717  58281        73  \n",
       "45466       109 -0.000238  57107       867  \n",
       "63724       134  1.687418  54539       254  \n",
       "34122       113  0.000159  52589       378  \n",
       "\n",
       "[30000 rows x 11 columns]"
      ]
     },
     "execution_count": 137,
     "metadata": {},
     "output_type": "execute_result"
    }
   ],
   "source": [
    "X_test"
   ]
  },
  {
   "cell_type": "code",
   "execution_count": 138,
   "id": "8d98d188",
   "metadata": {
    "ExecuteTime": {
     "end_time": "2022-12-02T05:43:56.256701Z",
     "start_time": "2022-12-02T05:43:56.246159Z"
    }
   },
   "outputs": [],
   "source": [
    "Xs_train, Xs_test, ys_train, ys_test = train_test_split(\n",
    "    Xs, ys, test_size=0.30, random_state=42)"
   ]
  },
  {
   "cell_type": "markdown",
   "id": "c4b05470",
   "metadata": {},
   "source": [
    "## k-Nearest Neighbors"
   ]
  },
  {
   "cell_type": "code",
   "execution_count": 12,
   "id": "b06fc815",
   "metadata": {
    "ExecuteTime": {
     "end_time": "2022-12-02T00:35:06.826806Z",
     "start_time": "2022-12-02T00:35:06.682046Z"
    }
   },
   "outputs": [],
   "source": [
    "from sklearn.neighbors import KNeighborsClassifier # KNN"
   ]
  },
  {
   "cell_type": "code",
   "execution_count": 13,
   "id": "a2697416",
   "metadata": {
    "ExecuteTime": {
     "end_time": "2022-12-02T00:35:07.547725Z",
     "start_time": "2022-12-02T00:35:07.535725Z"
    }
   },
   "outputs": [],
   "source": [
    "from sklearn.metrics import confusion_matrix"
   ]
  },
  {
   "cell_type": "markdown",
   "id": "b81570a2",
   "metadata": {},
   "source": [
    "### Todas las columnas"
   ]
  },
  {
   "cell_type": "code",
   "execution_count": 52,
   "id": "305e01f9",
   "metadata": {
    "ExecuteTime": {
     "end_time": "2022-12-01T03:31:24.866775Z",
     "start_time": "2022-12-01T03:31:24.748804Z"
    }
   },
   "outputs": [
    {
     "data": {
      "text/plain": [
       "KNeighborsClassifier()"
      ]
     },
     "execution_count": 52,
     "metadata": {},
     "output_type": "execute_result"
    }
   ],
   "source": [
    "clf = KNeighborsClassifier(n_neighbors=5)\n",
    "clf.fit(X_train, y_train)"
   ]
  },
  {
   "cell_type": "code",
   "execution_count": 53,
   "id": "71d9dfb5",
   "metadata": {
    "ExecuteTime": {
     "end_time": "2022-12-01T03:31:25.695833Z",
     "start_time": "2022-12-01T03:31:25.198533Z"
    }
   },
   "outputs": [
    {
     "name": "stdout",
     "output_type": "stream",
     "text": [
      "Test set accuracy: 0.68\n"
     ]
    }
   ],
   "source": [
    "print(\"Test set accuracy: {:.2f}\".format(clf.score(X_test, y_test)))"
   ]
  },
  {
   "cell_type": "code",
   "execution_count": 54,
   "id": "49f41036",
   "metadata": {
    "ExecuteTime": {
     "end_time": "2022-12-01T03:31:26.565906Z",
     "start_time": "2022-12-01T03:31:26.039514Z"
    }
   },
   "outputs": [],
   "source": [
    "y_pred = clf.predict(X_test)"
   ]
  },
  {
   "cell_type": "code",
   "execution_count": 55,
   "id": "35a46d5b",
   "metadata": {
    "ExecuteTime": {
     "end_time": "2022-12-01T03:31:26.925158Z",
     "start_time": "2022-12-01T03:31:26.912857Z"
    }
   },
   "outputs": [
    {
     "data": {
      "text/plain": [
       "array([[15844,   948,  1053],\n",
       "       [ 2959,  2791,   705],\n",
       "       [ 3055,   749,  1896]], dtype=int64)"
      ]
     },
     "execution_count": 55,
     "metadata": {},
     "output_type": "execute_result"
    }
   ],
   "source": [
    "confusion_matrix(y_test, y_pred)"
   ]
  },
  {
   "cell_type": "code",
   "execution_count": 56,
   "id": "cf1883e2",
   "metadata": {
    "ExecuteTime": {
     "end_time": "2022-12-01T03:31:28.214536Z",
     "start_time": "2022-12-01T03:31:27.595818Z"
    }
   },
   "outputs": [
    {
     "name": "stderr",
     "output_type": "stream",
     "text": [
      "C:\\Users\\rafae\\anaconda3\\lib\\site-packages\\sklearn\\utils\\deprecation.py:87: FutureWarning: Function plot_confusion_matrix is deprecated; Function `plot_confusion_matrix` is deprecated in 1.0 and will be removed in 1.2. Use one of the class methods: ConfusionMatrixDisplay.from_predictions or ConfusionMatrixDisplay.from_estimator.\n",
      "  warnings.warn(msg, category=FutureWarning)\n"
     ]
    },
    {
     "data": {
      "image/png": "[encoded data removed]",
      "text/plain": [
       "<Figure size 432x288 with 2 Axes>"
      ]
     },
     "metadata": {
      "needs_background": "light"
     },
     "output_type": "display_data"
    }
   ],
   "source": [
    "import matplotlib.pyplot as plt\n",
    "from sklearn.metrics import plot_confusion_matrix\n",
    "\n",
    "\n",
    "matrix = plot_confusion_matrix(clf, X_test, y_test, cmap=plt.cm.Blues)\n",
    "matrix.ax_.set_title('Confusion Matrix')\n",
    "plt.xlabel('Predicted Label')\n",
    "plt.ylabel('True Label')\n",
    "plt.show()"
   ]
  },
  {
   "cell_type": "markdown",
   "id": "92a39a74",
   "metadata": {},
   "source": [
    "### Columnas selectas"
   ]
  },
  {
   "cell_type": "code",
   "execution_count": 66,
   "id": "4357544e",
   "metadata": {
    "ExecuteTime": {
     "end_time": "2022-12-01T03:31:48.793531Z",
     "start_time": "2022-12-01T03:31:48.744418Z"
    }
   },
   "outputs": [
    {
     "data": {
      "text/plain": [
       "KNeighborsClassifier(n_neighbors=1)"
      ]
     },
     "execution_count": 66,
     "metadata": {},
     "output_type": "execute_result"
    }
   ],
   "source": [
    "clf2 = KNeighborsClassifier(n_neighbors=1)\n",
    "clf2.fit(Xs_train, ys_train)"
   ]
  },
  {
   "cell_type": "code",
   "execution_count": 67,
   "id": "d7a0123e",
   "metadata": {
    "ExecuteTime": {
     "end_time": "2022-12-01T03:31:49.477602Z",
     "start_time": "2022-12-01T03:31:49.139862Z"
    }
   },
   "outputs": [
    {
     "name": "stdout",
     "output_type": "stream",
     "text": [
      "Test set accuracy: 0.86\n"
     ]
    }
   ],
   "source": [
    "print(\"Test set accuracy: {:.2f}\".format(clf2.score(Xs_test, ys_test)))"
   ]
  },
  {
   "cell_type": "code",
   "execution_count": 68,
   "id": "6ab82a14",
   "metadata": {
    "ExecuteTime": {
     "end_time": "2022-12-01T03:31:51.050792Z",
     "start_time": "2022-12-01T03:31:50.579902Z"
    }
   },
   "outputs": [
    {
     "name": "stderr",
     "output_type": "stream",
     "text": [
      "C:\\Users\\rafae\\anaconda3\\lib\\site-packages\\sklearn\\utils\\deprecation.py:87: FutureWarning: Function plot_confusion_matrix is deprecated; Function `plot_confusion_matrix` is deprecated in 1.0 and will be removed in 1.2. Use one of the class methods: ConfusionMatrixDisplay.from_predictions or ConfusionMatrixDisplay.from_estimator.\n",
      "  warnings.warn(msg, category=FutureWarning)\n"
     ]
    },
    {
     "data": {
      "image/png": "[encoded data removed]",
      "text/plain": [
       "<Figure size 432x288 with 2 Axes>"
      ]
     },
     "metadata": {
      "needs_background": "light"
     },
     "output_type": "display_data"
    }
   ],
   "source": [
    "import matplotlib.pyplot as plt\n",
    "from sklearn.metrics import plot_confusion_matrix\n",
    "\n",
    "\n",
    "matrix = plot_confusion_matrix(clf2, Xs_test, ys_test, cmap=plt.cm.Blues)\n",
    "matrix.ax_.set_title('Confusion Matrix')\n",
    "plt.xlabel('Predicted Label')\n",
    "plt.ylabel('True Label')\n",
    "plt.show()"
   ]
  },
  {
   "cell_type": "code",
   "execution_count": 69,
   "id": "dffd53f4",
   "metadata": {
    "ExecuteTime": {
     "end_time": "2022-12-01T03:36:32.360715Z",
     "start_time": "2022-12-01T03:36:15.070439Z"
    }
   },
   "outputs": [
    {
     "data": {
      "text/plain": [
       "<matplotlib.legend.Legend at 0x16000e1bf40>"
      ]
     },
     "execution_count": 69,
     "metadata": {},
     "output_type": "execute_result"
    },
    {
     "data": {
      "image/png": "[encoded data removed]",
      "text/plain": [
       "<Figure size 432x288 with 1 Axes>"
      ]
     },
     "metadata": {
      "needs_background": "light"
     },
     "output_type": "display_data"
    }
   ],
   "source": [
    "training_accuracy = []\n",
    "test_accuracy = []\n",
    "# try n_neighbors from 1 to 10\n",
    "neighbors_settings = range(1, 11)\n",
    "for n_neighbors in neighbors_settings:\n",
    "    # build the model\n",
    "    clf = KNeighborsClassifier(n_neighbors=n_neighbors)\n",
    "    clf.fit(X_train, y_train)\n",
    "    # record training set accuracy\n",
    "    training_accuracy.append(clf.score(X_train, y_train))\n",
    "    # record generalization accuracy\n",
    "    test_accuracy.append(clf.score(X_test, y_test))\n",
    "plt.plot(neighbors_settings, training_accuracy, label=\"training accuracy\")\n",
    "plt.plot(neighbors_settings, test_accuracy, label=\"test accuracy\")\n",
    "plt.ylabel(\"Accuracy\")\n",
    "plt.xlabel(\"n_neighbors\")\n",
    "plt.legend()\n"
   ]
  },
  {
   "cell_type": "code",
   "execution_count": 72,
   "id": "8d474936",
   "metadata": {
    "ExecuteTime": {
     "end_time": "2022-12-01T03:37:42.444707Z",
     "start_time": "2022-12-01T03:37:29.769780Z"
    }
   },
   "outputs": [
    {
     "data": {
      "text/plain": [
       "<matplotlib.legend.Legend at 0x16001b26700>"
      ]
     },
     "execution_count": 72,
     "metadata": {},
     "output_type": "execute_result"
    },
    {
     "data": {
      "image/png": "[encoded data removed]",
      "text/plain": [
       "<Figure size 432x288 with 1 Axes>"
      ]
     },
     "metadata": {
      "needs_background": "light"
     },
     "output_type": "display_data"
    }
   ],
   "source": [
    "training_accuracy = []\n",
    "test_accuracy = []\n",
    "# try n_neighbors from 1 to 10\n",
    "neighbors_settings = range(1, 11)\n",
    "for n_neighbors in neighbors_settings:\n",
    "    # build the model\n",
    "    clf2 = KNeighborsClassifier(n_neighbors=n_neighbors)\n",
    "    clf2.fit(Xs_train, ys_train)\n",
    "    # record training set accuracy\n",
    "    training_accuracy.append(clf2.score(Xs_train, ys_train))\n",
    "    # record generalization accuracy\n",
    "    test_accuracy.append(clf2.score(Xs_test, ys_test))\n",
    "plt.plot(neighbors_settings, training_accuracy, label=\"training accuracy\")\n",
    "plt.plot(neighbors_settings, test_accuracy, label=\"test accuracy\")\n",
    "plt.ylabel(\"Accuracy\")\n",
    "plt.xlabel(\"n_neighbors\")\n",
    "plt.legend()\n"
   ]
  },
  {
   "cell_type": "markdown",
   "id": "c31ba18e",
   "metadata": {},
   "source": [
    "## K Neighbors Regressor"
   ]
  },
  {
   "cell_type": "code",
   "execution_count": 73,
   "id": "c796e6c2",
   "metadata": {
    "ExecuteTime": {
     "end_time": "2022-12-01T04:00:46.959468Z",
     "start_time": "2022-12-01T04:00:46.954485Z"
    }
   },
   "outputs": [],
   "source": [
    "from sklearn.neighbors import KNeighborsRegressor"
   ]
  },
  {
   "cell_type": "markdown",
   "id": "ff780f52",
   "metadata": {},
   "source": [
    "### Todas las columnas"
   ]
  },
  {
   "cell_type": "code",
   "execution_count": 77,
   "id": "72308f3d",
   "metadata": {
    "ExecuteTime": {
     "end_time": "2022-12-01T04:02:01.096515Z",
     "start_time": "2022-12-01T04:02:00.826698Z"
    }
   },
   "outputs": [
    {
     "name": "stdout",
     "output_type": "stream",
     "text": [
      "Test set R^2: 0.11\n"
     ]
    }
   ],
   "source": [
    "reg = KNeighborsRegressor(n_neighbors=3)\n",
    "reg.fit(X_train, y_train)\n",
    "print(\"Test set R^2: {:.2f}\".format(reg.score(X_test, y_test)))"
   ]
  },
  {
   "cell_type": "markdown",
   "id": "7aa2fc98",
   "metadata": {},
   "source": [
    "### Columnas selectas"
   ]
  },
  {
   "cell_type": "code",
   "execution_count": 80,
   "id": "691817bd",
   "metadata": {
    "ExecuteTime": {
     "end_time": "2022-12-01T04:07:02.413743Z",
     "start_time": "2022-12-01T04:07:02.299750Z"
    }
   },
   "outputs": [
    {
     "name": "stdout",
     "output_type": "stream",
     "text": [
      "Test set R^2: 0.62\n"
     ]
    }
   ],
   "source": [
    "reg2 = KNeighborsRegressor(n_neighbors=3)\n",
    "reg2.fit(Xs_train, ys_train)\n",
    "print(\"Test set R^2: {:.2f}\".format(reg2.score(Xs_test, ys_test)))"
   ]
  },
  {
   "cell_type": "markdown",
   "id": "204fe078",
   "metadata": {},
   "source": [
    "## Regresión Logística"
   ]
  },
  {
   "cell_type": "code",
   "execution_count": 81,
   "id": "bce0621b",
   "metadata": {
    "ExecuteTime": {
     "end_time": "2022-12-01T04:25:35.621026Z",
     "start_time": "2022-12-01T04:25:35.603167Z"
    }
   },
   "outputs": [],
   "source": [
    "from sklearn.linear_model import LogisticRegression"
   ]
  },
  {
   "cell_type": "markdown",
   "id": "5aa7528d",
   "metadata": {},
   "source": [
    "### Todas las columnas"
   ]
  },
  {
   "cell_type": "code",
   "execution_count": 87,
   "id": "7f6cee5d",
   "metadata": {
    "ExecuteTime": {
     "end_time": "2022-12-01T04:32:00.210727Z",
     "start_time": "2022-12-01T04:31:58.711594Z"
    }
   },
   "outputs": [
    {
     "name": "stdout",
     "output_type": "stream",
     "text": [
      "Training set score: 0.594\n",
      "Test set score: 0.595\n"
     ]
    },
    {
     "name": "stderr",
     "output_type": "stream",
     "text": [
      "C:\\Users\\rafae\\anaconda3\\lib\\site-packages\\sklearn\\linear_model\\_logistic.py:814: ConvergenceWarning: lbfgs failed to converge (status=1):\n",
      "STOP: TOTAL NO. of ITERATIONS REACHED LIMIT.\n",
      "\n",
      "Increase the number of iterations (max_iter) or scale the data as shown in:\n",
      "    https://scikit-learn.org/stable/modules/preprocessing.html\n",
      "Please also refer to the documentation for alternative solver options:\n",
      "    https://scikit-learn.org/stable/modules/linear_model.html#logistic-regression\n",
      "  n_iter_i = _check_optimize_result(\n"
     ]
    }
   ],
   "source": [
    "logreg = LogisticRegression(C=1000).fit(X_train, y_train)\n",
    "print(\"Training set score: {:.3f}\".format(logreg.score(X_train, y_train)))\n",
    "print(\"Test set score: {:.3f}\".format(logreg.score(X_test, y_test)))"
   ]
  },
  {
   "cell_type": "code",
   "execution_count": 88,
   "id": "b92a37ae",
   "metadata": {
    "ExecuteTime": {
     "end_time": "2022-12-01T04:32:01.881127Z",
     "start_time": "2022-12-01T04:32:01.789137Z"
    }
   },
   "outputs": [
    {
     "name": "stderr",
     "output_type": "stream",
     "text": [
      "C:\\Users\\rafae\\anaconda3\\lib\\site-packages\\sklearn\\utils\\deprecation.py:87: FutureWarning: Function plot_confusion_matrix is deprecated; Function `plot_confusion_matrix` is deprecated in 1.0 and will be removed in 1.2. Use one of the class methods: ConfusionMatrixDisplay.from_predictions or ConfusionMatrixDisplay.from_estimator.\n",
      "  warnings.warn(msg, category=FutureWarning)\n"
     ]
    },
    {
     "data": {
      "image/png": "[encoded data removed]",
      "text/plain": [
       "<Figure size 432x288 with 2 Axes>"
      ]
     },
     "metadata": {
      "needs_background": "light"
     },
     "output_type": "display_data"
    }
   ],
   "source": [
    "matrix = plot_confusion_matrix(logreg, X_test, y_test, cmap=plt.cm.Blues)\n",
    "matrix.ax_.set_title('Confusion Matrix')\n",
    "plt.xlabel('Predicted Label')\n",
    "plt.ylabel('True Label')\n",
    "plt.show()"
   ]
  },
  {
   "cell_type": "code",
   "execution_count": 100,
   "id": "56313bf3",
   "metadata": {
    "ExecuteTime": {
     "end_time": "2022-12-01T04:42:27.714969Z",
     "start_time": "2022-12-01T04:42:27.660831Z"
    }
   },
   "outputs": [
    {
     "data": {
      "text/plain": [
       "Text(0, 0.5, 'Coefficient magnitude')"
      ]
     },
     "execution_count": 100,
     "metadata": {},
     "output_type": "execute_result"
    },
    {
     "data": {
      "image/png": "[encoded data removed]",
      "text/plain": [
       "<Figure size 432x288 with 1 Axes>"
      ]
     },
     "metadata": {
      "needs_background": "light"
     },
     "output_type": "display_data"
    }
   ],
   "source": [
    "plt.plot(logreg.coef_.T, 'o', label=\"C=1\")\n",
    "plt.xticks(range(X.shape[1]), X.columns, rotation=90)\n",
    "plt.hlines(0, 0, X.shape[1])\n",
    "plt.ylim(-5, 5)\n",
    "plt.xlabel(\"Coefficient index\")\n",
    "plt.ylabel(\"Coefficient magnitude\")\n"
   ]
  },
  {
   "cell_type": "markdown",
   "id": "86150e28",
   "metadata": {},
   "source": [
    "### Columnas selectas"
   ]
  },
  {
   "cell_type": "code",
   "execution_count": 91,
   "id": "35a3c791",
   "metadata": {
    "ExecuteTime": {
     "end_time": "2022-12-01T04:33:44.035098Z",
     "start_time": "2022-12-01T04:33:43.583029Z"
    }
   },
   "outputs": [
    {
     "name": "stdout",
     "output_type": "stream",
     "text": [
      "Training set score: 0.653\n",
      "Test set score: 0.652\n"
     ]
    }
   ],
   "source": [
    "logreg2 = LogisticRegression(C=0.1).fit(Xs_train, ys_train)\n",
    "print(\"Training set score: {:.3f}\".format(logreg2.score(Xs_train, ys_train)))\n",
    "print(\"Test set score: {:.3f}\".format(logreg2.score(Xs_test, ys_test)))"
   ]
  },
  {
   "cell_type": "code",
   "execution_count": 92,
   "id": "a770d12d",
   "metadata": {
    "ExecuteTime": {
     "end_time": "2022-12-01T04:33:58.663410Z",
     "start_time": "2022-12-01T04:33:58.562037Z"
    }
   },
   "outputs": [
    {
     "name": "stderr",
     "output_type": "stream",
     "text": [
      "C:\\Users\\rafae\\anaconda3\\lib\\site-packages\\sklearn\\utils\\deprecation.py:87: FutureWarning: Function plot_confusion_matrix is deprecated; Function `plot_confusion_matrix` is deprecated in 1.0 and will be removed in 1.2. Use one of the class methods: ConfusionMatrixDisplay.from_predictions or ConfusionMatrixDisplay.from_estimator.\n",
      "  warnings.warn(msg, category=FutureWarning)\n"
     ]
    },
    {
     "data": {
      "image/png": "[encoded data removed]",
      "text/plain": [
       "<Figure size 432x288 with 2 Axes>"
      ]
     },
     "metadata": {
      "needs_background": "light"
     },
     "output_type": "display_data"
    }
   ],
   "source": [
    "matrix = plot_confusion_matrix(logreg2, Xs_test, ys_test, cmap=plt.cm.Blues)\n",
    "matrix.ax_.set_title('Confusion Matrix')\n",
    "plt.xlabel('Predicted Label')\n",
    "plt.ylabel('True Label')\n",
    "plt.show()"
   ]
  },
  {
   "cell_type": "code",
   "execution_count": 102,
   "id": "f68bdee7",
   "metadata": {
    "ExecuteTime": {
     "end_time": "2022-12-01T04:42:38.679602Z",
     "start_time": "2022-12-01T04:42:38.612895Z"
    }
   },
   "outputs": [
    {
     "data": {
      "text/plain": [
       "<matplotlib.legend.Legend at 0x1600c1ea190>"
      ]
     },
     "execution_count": 102,
     "metadata": {},
     "output_type": "execute_result"
    },
    {
     "data": {
      "image/png": "[encoded data removed]",
      "text/plain": [
       "<Figure size 432x288 with 1 Axes>"
      ]
     },
     "metadata": {
      "needs_background": "light"
     },
     "output_type": "display_data"
    }
   ],
   "source": [
    "plt.plot(logreg2.coef_.T, 'o', label=\"C=1\")\n",
    "plt.xticks(range(Xs.shape[1]), Xs.columns, rotation=90)\n",
    "plt.hlines(0, 0, Xs.shape[1])\n",
    "plt.ylim(-5, 5)\n",
    "plt.xlabel(\"Coefficient index\")\n",
    "plt.ylabel(\"Coefficient magnitude\")\n",
    "plt.legend()\n"
   ]
  },
  {
   "cell_type": "code",
   "execution_count": 106,
   "id": "608dfb65",
   "metadata": {
    "ExecuteTime": {
     "end_time": "2022-12-01T04:53:32.986430Z",
     "start_time": "2022-12-01T04:53:32.981447Z"
    }
   },
   "outputs": [
    {
     "data": {
      "text/plain": [
       "array([[-2.67890741e-01, -3.12569407e-01,  1.33999409e-04,\n",
       "        -1.31103712e-02],\n",
       "       [-3.51342564e-01, -2.34820759e-01,  1.99480303e-04,\n",
       "        -3.28795494e-01],\n",
       "       [ 6.19233305e-01,  5.47390166e-01, -3.33479711e-04,\n",
       "         3.41905865e-01]])"
      ]
     },
     "execution_count": 106,
     "metadata": {},
     "output_type": "execute_result"
    }
   ],
   "source": [
    "logreg2.coef_"
   ]
  },
  {
   "cell_type": "markdown",
   "id": "53b1a2a3",
   "metadata": {},
   "source": [
    "## Árbol de decisión"
   ]
  },
  {
   "cell_type": "code",
   "execution_count": 1,
   "id": "876b74a8",
   "metadata": {
    "ExecuteTime": {
     "end_time": "2022-12-02T04:04:18.776675Z",
     "start_time": "2022-12-02T04:04:18.040133Z"
    }
   },
   "outputs": [],
   "source": [
    "from sklearn.tree import DecisionTreeClassifier"
   ]
  },
  {
   "cell_type": "markdown",
   "id": "3775de3c",
   "metadata": {},
   "source": [
    "### Todas las columnas "
   ]
  },
  {
   "cell_type": "code",
   "execution_count": 41,
   "id": "47b33dc8",
   "metadata": {
    "ExecuteTime": {
     "end_time": "2022-12-02T04:10:35.577776Z",
     "start_time": "2022-12-02T04:10:35.065586Z"
    }
   },
   "outputs": [
    {
     "name": "stdout",
     "output_type": "stream",
     "text": [
      "Accuracy on training set: 0.983\n",
      "Accuracy on test set: 0.972\n"
     ]
    }
   ],
   "source": [
    "#tree = DecisionTreeClassifier(random_state=0)\n",
    "tree = DecisionTreeClassifier(max_depth = 10, random_state=0)\n",
    "\n",
    "tree.fit(X_train, y_train)\n",
    "print(\"Accuracy on training set: {:.3f}\".format(tree.score(X_train, y_train)))\n",
    "print(\"Accuracy on test set: {:.3f}\".format(tree.score(X_test, y_test)))"
   ]
  },
  {
   "cell_type": "code",
   "execution_count": 42,
   "id": "3d1ce161",
   "metadata": {
    "ExecuteTime": {
     "end_time": "2022-12-02T04:10:36.080561Z",
     "start_time": "2022-12-02T04:10:35.965524Z"
    }
   },
   "outputs": [
    {
     "name": "stderr",
     "output_type": "stream",
     "text": [
      "C:\\Users\\rafae\\anaconda3\\lib\\site-packages\\sklearn\\utils\\deprecation.py:87: FutureWarning: Function plot_confusion_matrix is deprecated; Function `plot_confusion_matrix` is deprecated in 1.0 and will be removed in 1.2. Use one of the class methods: ConfusionMatrixDisplay.from_predictions or ConfusionMatrixDisplay.from_estimator.\n",
      "  warnings.warn(msg, category=FutureWarning)\n"
     ]
    },
    {
     "data": {
      "image/png": "[encoded data removed]",
      "text/plain": [
       "<Figure size 432x288 with 2 Axes>"
      ]
     },
     "metadata": {
      "needs_background": "light"
     },
     "output_type": "display_data"
    }
   ],
   "source": [
    "import matplotlib.pyplot as plt\n",
    "from sklearn.metrics import plot_confusion_matrix\n",
    "matrix = plot_confusion_matrix(tree, X_test, y_test, cmap=plt.cm.Blues)\n",
    "matrix.ax_.set_title('Confusion Matrix')\n",
    "plt.xlabel('Predicted Label')\n",
    "plt.ylabel('True Label')\n",
    "plt.show()"
   ]
  },
  {
   "cell_type": "code",
   "execution_count": 85,
   "id": "74de59cd",
   "metadata": {
    "ExecuteTime": {
     "end_time": "2022-12-02T05:01:08.565461Z",
     "start_time": "2022-12-02T05:01:08.550875Z"
    }
   },
   "outputs": [
    {
     "name": "stdout",
     "output_type": "stream",
     "text": [
      "Feature importances:\n",
      "[1.68528479e-03 1.82872561e-03 4.68267245e-02 1.50038229e-02\n",
      " 9.70466124e-03 1.10673747e-03 2.29616039e-04 9.36730884e-04\n",
      " 9.14285073e-01 7.00911332e-03 1.38351043e-03]\n"
     ]
    }
   ],
   "source": [
    "print(\"Feature importances:\\n{}\".format(tree.feature_importances_))"
   ]
  },
  {
   "cell_type": "code",
   "execution_count": 87,
   "id": "aee6e97d",
   "metadata": {
    "ExecuteTime": {
     "end_time": "2022-12-02T05:01:34.577546Z",
     "start_time": "2022-12-02T05:01:34.505263Z"
    }
   },
   "outputs": [
    {
     "data": {
      "image/png": "[encoded data removed]",
      "text/plain": [
       "<Figure size 432x288 with 1 Axes>"
      ]
     },
     "metadata": {
      "needs_background": "light"
     },
     "output_type": "display_data"
    }
   ],
   "source": [
    "def plot_feature_importances_cancer(model):\n",
    "    n_features = X_test.shape[1]\n",
    "    plt.barh(range(n_features), model.feature_importances_, align='center')\n",
    "    plt.yticks(np.arange(n_features), X_test.columns)\n",
    "    plt.xlabel(\"Feature importance\")\n",
    "    plt.ylabel(\"Feature\")\n",
    "plot_feature_importances_cancer(tree)"
   ]
  },
  {
   "cell_type": "markdown",
   "id": "d39829d8",
   "metadata": {},
   "source": [
    "### Columnas selectas"
   ]
  },
  {
   "cell_type": "code",
   "execution_count": 53,
   "id": "17feabd4",
   "metadata": {
    "ExecuteTime": {
     "end_time": "2022-12-02T04:12:13.352221Z",
     "start_time": "2022-12-02T04:12:13.164845Z"
    }
   },
   "outputs": [
    {
     "name": "stdout",
     "output_type": "stream",
     "text": [
      "Accuracy on training set: 0.975\n",
      "Accuracy on test set: 0.969\n"
     ]
    }
   ],
   "source": [
    "#tree2 = DecisionTreeClassifier(random_state=0)\n",
    "tree2 = DecisionTreeClassifier(max_depth = 9, random_state=0)\n",
    "\n",
    "tree2.fit(Xs_train, ys_train)\n",
    "print(\"Accuracy on training set: {:.3f}\".format(tree2.score(Xs_train, ys_train)))\n",
    "print(\"Accuracy on test set: {:.3f}\".format(tree2.score(Xs_test, ys_test)))"
   ]
  },
  {
   "cell_type": "code",
   "execution_count": 54,
   "id": "a2d13ee5",
   "metadata": {
    "ExecuteTime": {
     "end_time": "2022-12-02T04:12:48.610878Z",
     "start_time": "2022-12-02T04:12:48.480136Z"
    }
   },
   "outputs": [
    {
     "name": "stderr",
     "output_type": "stream",
     "text": [
      "C:\\Users\\rafae\\anaconda3\\lib\\site-packages\\sklearn\\utils\\deprecation.py:87: FutureWarning: Function plot_confusion_matrix is deprecated; Function `plot_confusion_matrix` is deprecated in 1.0 and will be removed in 1.2. Use one of the class methods: ConfusionMatrixDisplay.from_predictions or ConfusionMatrixDisplay.from_estimator.\n",
      "  warnings.warn(msg, category=FutureWarning)\n"
     ]
    },
    {
     "data": {
      "image/png": "[encoded data removed]",
      "text/plain": [
       "<Figure size 432x288 with 2 Axes>"
      ]
     },
     "metadata": {
      "needs_background": "light"
     },
     "output_type": "display_data"
    }
   ],
   "source": [
    "matrix = plot_confusion_matrix(tree2, Xs_test, ys_test, cmap=plt.cm.Blues)\n",
    "matrix.ax_.set_title('Confusion Matrix')\n",
    "plt.xlabel('Predicted Label')\n",
    "plt.ylabel('True Label')\n",
    "plt.show()"
   ]
  },
  {
   "cell_type": "code",
   "execution_count": 56,
   "id": "cdc6f441",
   "metadata": {
    "ExecuteTime": {
     "end_time": "2022-12-02T04:16:59.340833Z",
     "start_time": "2022-12-02T04:16:59.304142Z"
    }
   },
   "outputs": [],
   "source": [
    "from sklearn.tree import export_graphviz\n",
    "export_graphviz(tree2, out_file=\"tree2.dot\", class_names=[\"Galaxy\",\"Star\", \"Quasar\"],\n",
    " feature_names=Xs_test.columns, impurity=False, filled=True)"
   ]
  },
  {
   "cell_type": "code",
   "execution_count": 81,
   "id": "8fcce72c",
   "metadata": {
    "ExecuteTime": {
     "end_time": "2022-12-02T04:59:23.346488Z",
     "start_time": "2022-12-02T04:59:23.340970Z"
    }
   },
   "outputs": [
    {
     "name": "stdout",
     "output_type": "stream",
     "text": [
      "Feature importances:\n",
      "[0.93395424 0.01587989 0.00784933 0.04231653]\n"
     ]
    }
   ],
   "source": [
    "print(\"Feature importances:\\n{}\".format(tree2.feature_importances_))\n"
   ]
  },
  {
   "cell_type": "code",
   "execution_count": 84,
   "id": "9f97703e",
   "metadata": {
    "ExecuteTime": {
     "end_time": "2022-12-02T05:00:35.566739Z",
     "start_time": "2022-12-02T05:00:35.518665Z"
    }
   },
   "outputs": [
    {
     "data": {
      "image/png": "[encoded data removed]",
      "text/plain": [
       "<Figure size 432x288 with 1 Axes>"
      ]
     },
     "metadata": {
      "needs_background": "light"
     },
     "output_type": "display_data"
    }
   ],
   "source": [
    "def plot_feature_importances_cancer(model):\n",
    "    n_features = Xs_test.shape[1]\n",
    "    plt.barh(range(n_features), model.feature_importances_, align='center')\n",
    "    plt.yticks(np.arange(n_features), Xs_test.columns)\n",
    "    plt.xlabel(\"Feature importance\")\n",
    "    plt.ylabel(\"Feature\")\n",
    "plot_feature_importances_cancer(tree2)\n"
   ]
  },
  {
   "cell_type": "markdown",
   "id": "e0632f82",
   "metadata": {
    "ExecuteTime": {
     "end_time": "2022-12-02T04:56:20.551909Z",
     "start_time": "2022-12-02T04:56:20.534517Z"
    }
   },
   "source": [
    "## Redes neuronales"
   ]
  },
  {
   "cell_type": "markdown",
   "id": "afa6b00f",
   "metadata": {},
   "source": [
    "### Todas las columnas"
   ]
  },
  {
   "cell_type": "code",
   "execution_count": 147,
   "id": "c86267c5",
   "metadata": {
    "ExecuteTime": {
     "end_time": "2022-12-02T05:46:11.980876Z",
     "start_time": "2022-12-02T05:46:11.971709Z"
    }
   },
   "outputs": [
    {
     "name": "stdout",
     "output_type": "stream",
     "text": [
      "[[1. 0. 0.]\n",
      " [0. 1. 0.]\n",
      " [0. 1. 0.]\n",
      " ...\n",
      " [0. 1. 0.]\n",
      " [1. 0. 0.]\n",
      " [1. 0. 0.]]\n"
     ]
    }
   ],
   "source": [
    "from keras.utils import to_categorical\n",
    "\n",
    "y_traincat=to_categorical(y_train,num_classes=3)\n",
    "y_testcat=to_categorical(y_test,num_classes=3)\n",
    "print(y_traincat)"
   ]
  },
  {
   "cell_type": "code",
   "execution_count": 148,
   "id": "3bbd1c6e",
   "metadata": {
    "ExecuteTime": {
     "end_time": "2022-12-02T05:46:17.091688Z",
     "start_time": "2022-12-02T05:46:17.074033Z"
    }
   },
   "outputs": [
    {
     "name": "stdout",
     "output_type": "stream",
     "text": [
      "76513    0\n",
      "60406    1\n",
      "27322    1\n",
      "53699    0\n",
      "65412    0\n",
      "        ..\n",
      "6265     2\n",
      "54886    0\n",
      "76820    1\n",
      "860      0\n",
      "15795    0\n",
      "Name: class, Length: 70000, dtype: int64\n"
     ]
    }
   ],
   "source": [
    "print(y_train)"
   ]
  },
  {
   "cell_type": "code",
   "execution_count": 104,
   "id": "a64f21d5",
   "metadata": {
    "ExecuteTime": {
     "end_time": "2022-12-02T05:31:59.262464Z",
     "start_time": "2022-12-02T05:31:59.257715Z"
    }
   },
   "outputs": [],
   "source": [
    "import tensorflow as tf\n",
    "import keras\n",
    "from tensorflow.keras import Sequential\n",
    "from tensorflow.keras.layers import Dense\n",
    "from keras.layers import BatchNormalization"
   ]
  },
  {
   "cell_type": "code",
   "execution_count": 154,
   "id": "a08139af",
   "metadata": {
    "ExecuteTime": {
     "end_time": "2022-12-02T05:48:43.728750Z",
     "start_time": "2022-12-02T05:48:43.664908Z"
    }
   },
   "outputs": [],
   "source": [
    "model = Sequential()\n",
    "model.add(Dense(10, activation='tanh', input_shape=(11,)))\n",
    "model.add(BatchNormalization())\n",
    "model.add(Dense(10, activation='tanh'))\n",
    "model.add(BatchNormalization())\n",
    "model.add(Dense(10, activation='tanh'))\n",
    "model.add(BatchNormalization())\n",
    "\n",
    "model.add(Dense(3, activation='softmax'))"
   ]
  },
  {
   "cell_type": "code",
   "execution_count": 155,
   "id": "3ac233c2",
   "metadata": {
    "ExecuteTime": {
     "end_time": "2022-12-02T05:48:44.040767Z",
     "start_time": "2022-12-02T05:48:44.026722Z"
    }
   },
   "outputs": [
    {
     "name": "stdout",
     "output_type": "stream",
     "text": [
      "Model: \"sequential_13\"\n",
      "_________________________________________________________________\n",
      " Layer (type)                Output Shape              Param #   \n",
      "=================================================================\n",
      " dense_46 (Dense)            (None, 10)                120       \n",
      "                                                                 \n",
      " batch_normalization_24 (Bat  (None, 10)               40        \n",
      " chNormalization)                                                \n",
      "                                                                 \n",
      " dense_47 (Dense)            (None, 10)                110       \n",
      "                                                                 \n",
      " batch_normalization_25 (Bat  (None, 10)               40        \n",
      " chNormalization)                                                \n",
      "                                                                 \n",
      " dense_48 (Dense)            (None, 10)                110       \n",
      "                                                                 \n",
      " batch_normalization_26 (Bat  (None, 10)               40        \n",
      " chNormalization)                                                \n",
      "                                                                 \n",
      " dense_49 (Dense)            (None, 3)                 33        \n",
      "                                                                 \n",
      "=================================================================\n",
      "Total params: 493\n",
      "Trainable params: 433\n",
      "Non-trainable params: 60\n",
      "_________________________________________________________________\n"
     ]
    }
   ],
   "source": [
    "model.summary()"
   ]
  },
  {
   "cell_type": "code",
   "execution_count": 158,
   "id": "e3ec074e",
   "metadata": {
    "ExecuteTime": {
     "end_time": "2022-12-02T05:50:34.633942Z",
     "start_time": "2022-12-02T05:50:34.624265Z"
    }
   },
   "outputs": [],
   "source": [
    "model.compile(loss=\"categorical_crossentropy\",\n",
    "              optimizer=\"adam\",\n",
    "              metrics = ['CategoricalAccuracy'])"
   ]
  },
  {
   "cell_type": "code",
   "execution_count": 159,
   "id": "c90b57d7",
   "metadata": {
    "ExecuteTime": {
     "end_time": "2022-12-02T05:50:35.053965Z",
     "start_time": "2022-12-02T05:50:35.049157Z"
    }
   },
   "outputs": [],
   "source": [
    "def scheduler(epoch, lr):\n",
    "  if epoch < 15:\n",
    "    return lr\n",
    "  else:\n",
    "    return 1e-3 * 0.95 ** epoch"
   ]
  },
  {
   "cell_type": "code",
   "execution_count": 164,
   "id": "4e0b4ccf",
   "metadata": {
    "ExecuteTime": {
     "end_time": "2022-12-02T05:54:31.225521Z",
     "start_time": "2022-12-02T05:51:51.746655Z"
    }
   },
   "outputs": [
    {
     "name": "stdout",
     "output_type": "stream",
     "text": [
      "Epoch 1/100\n",
      "2186/2188 [============================>.] - ETA: 0s - loss: 0.9557 - categorical_accuracy: 0.5943WARNING:tensorflow:Early stopping conditioned on metric `val_loss` which is not available. Available metrics are: loss,categorical_accuracy,lr\n",
      "2188/2188 [==============================] - 2s 717us/step - loss: 0.9558 - categorical_accuracy: 0.5943 - lr: 0.0010\n",
      "Epoch 2/100\n",
      "2159/2188 [============================>.] - ETA: 0s - loss: 0.9556 - categorical_accuracy: 0.5945WARNING:tensorflow:Early stopping conditioned on metric `val_loss` which is not available. Available metrics are: loss,categorical_accuracy,lr\n",
      "2188/2188 [==============================] - 2s 703us/step - loss: 0.9558 - categorical_accuracy: 0.5943 - lr: 0.0010\n",
      "Epoch 3/100\n",
      "2133/2188 [============================>.] - ETA: 0s - loss: 0.9555 - categorical_accuracy: 0.5943WARNING:tensorflow:Early stopping conditioned on metric `val_loss` which is not available. Available metrics are: loss,categorical_accuracy,lr\n",
      "2188/2188 [==============================] - 2s 734us/step - loss: 0.9556 - categorical_accuracy: 0.5943 - lr: 0.0010\n",
      "Epoch 4/100\n",
      "2183/2188 [============================>.] - ETA: 0s - loss: 0.9557 - categorical_accuracy: 0.5944WARNING:tensorflow:Early stopping conditioned on metric `val_loss` which is not available. Available metrics are: loss,categorical_accuracy,lr\n",
      "2188/2188 [==============================] - 2s 743us/step - loss: 0.9558 - categorical_accuracy: 0.5943 - lr: 0.0010\n",
      "Epoch 5/100\n",
      "2179/2188 [============================>.] - ETA: 0s - loss: 0.9558 - categorical_accuracy: 0.5942WARNING:tensorflow:Early stopping conditioned on metric `val_loss` which is not available. Available metrics are: loss,categorical_accuracy,lr\n",
      "2188/2188 [==============================] - 2s 742us/step - loss: 0.9557 - categorical_accuracy: 0.5943 - lr: 0.0010\n",
      "Epoch 6/100\n",
      "2153/2188 [============================>.] - ETA: 0s - loss: 0.9558 - categorical_accuracy: 0.5943WARNING:tensorflow:Early stopping conditioned on metric `val_loss` which is not available. Available metrics are: loss,categorical_accuracy,lr\n",
      "2188/2188 [==============================] - 2s 728us/step - loss: 0.9557 - categorical_accuracy: 0.5943 - lr: 0.0010\n",
      "Epoch 7/100\n",
      "2119/2188 [============================>.] - ETA: 0s - loss: 0.9565 - categorical_accuracy: 0.5936WARNING:tensorflow:Early stopping conditioned on metric `val_loss` which is not available. Available metrics are: loss,categorical_accuracy,lr\n",
      "2188/2188 [==============================] - 2s 738us/step - loss: 0.9557 - categorical_accuracy: 0.5943 - lr: 0.0010\n",
      "Epoch 8/100\n",
      "2178/2188 [============================>.] - ETA: 0s - loss: 0.9556 - categorical_accuracy: 0.5945WARNING:tensorflow:Early stopping conditioned on metric `val_loss` which is not available. Available metrics are: loss,categorical_accuracy,lr\n",
      "2188/2188 [==============================] - 2s 720us/step - loss: 0.9558 - categorical_accuracy: 0.5943 - lr: 0.0010\n",
      "Epoch 9/100\n",
      "2166/2188 [============================>.] - ETA: 0s - loss: 0.9556 - categorical_accuracy: 0.5944WARNING:tensorflow:Early stopping conditioned on metric `val_loss` which is not available. Available metrics are: loss,categorical_accuracy,lr\n",
      "2188/2188 [==============================] - 2s 747us/step - loss: 0.9557 - categorical_accuracy: 0.5943 - lr: 0.0010\n",
      "Epoch 10/100\n",
      "2152/2188 [============================>.] - ETA: 0s - loss: 0.9559 - categorical_accuracy: 0.5941WARNING:tensorflow:Early stopping conditioned on metric `val_loss` which is not available. Available metrics are: loss,categorical_accuracy,lr\n",
      "2188/2188 [==============================] - 2s 729us/step - loss: 0.9557 - categorical_accuracy: 0.5943 - lr: 0.0010\n",
      "Epoch 11/100\n",
      "2128/2188 [============================>.] - ETA: 0s - loss: 0.9560 - categorical_accuracy: 0.5940WARNING:tensorflow:Early stopping conditioned on metric `val_loss` which is not available. Available metrics are: loss,categorical_accuracy,lr\n",
      "2188/2188 [==============================] - 2s 735us/step - loss: 0.9557 - categorical_accuracy: 0.5943 - lr: 0.0010\n",
      "Epoch 12/100\n",
      "2163/2188 [============================>.] - ETA: 0s - loss: 0.9557 - categorical_accuracy: 0.5943WARNING:tensorflow:Early stopping conditioned on metric `val_loss` which is not available. Available metrics are: loss,categorical_accuracy,lr\n",
      "2188/2188 [==============================] - 2s 725us/step - loss: 0.9557 - categorical_accuracy: 0.5943 - lr: 0.0010\n",
      "Epoch 13/100\n",
      "2167/2188 [============================>.] - ETA: 0s - loss: 0.9558 - categorical_accuracy: 0.5942WARNING:tensorflow:Early stopping conditioned on metric `val_loss` which is not available. Available metrics are: loss,categorical_accuracy,lr\n",
      "2188/2188 [==============================] - 2s 724us/step - loss: 0.9558 - categorical_accuracy: 0.5943 - lr: 0.0010\n",
      "Epoch 14/100\n",
      "2174/2188 [============================>.] - ETA: 0s - loss: 0.9560 - categorical_accuracy: 0.5940WARNING:tensorflow:Early stopping conditioned on metric `val_loss` which is not available. Available metrics are: loss,categorical_accuracy,lr\n",
      "2188/2188 [==============================] - 2s 745us/step - loss: 0.9558 - categorical_accuracy: 0.5943 - lr: 0.0010\n",
      "Epoch 15/100\n",
      "2168/2188 [============================>.] - ETA: 0s - loss: 0.9558 - categorical_accuracy: 0.5942WARNING:tensorflow:Early stopping conditioned on metric `val_loss` which is not available. Available metrics are: loss,categorical_accuracy,lr\n",
      "2188/2188 [==============================] - 2s 724us/step - loss: 0.9557 - categorical_accuracy: 0.5943 - lr: 0.0010\n",
      "Epoch 16/100\n",
      "2181/2188 [============================>.] - ETA: 0s - loss: 0.9556 - categorical_accuracy: 0.5943WARNING:tensorflow:Early stopping conditioned on metric `val_loss` which is not available. Available metrics are: loss,categorical_accuracy,lr\n",
      "2188/2188 [==============================] - 2s 745us/step - loss: 0.9556 - categorical_accuracy: 0.5943 - lr: 4.6329e-04\n",
      "Epoch 17/100\n",
      "2179/2188 [============================>.] - ETA: 0s - loss: 0.9555 - categorical_accuracy: 0.5944WARNING:tensorflow:Early stopping conditioned on metric `val_loss` which is not available. Available metrics are: loss,categorical_accuracy,lr\n",
      "2188/2188 [==============================] - 2s 742us/step - loss: 0.9557 - categorical_accuracy: 0.5943 - lr: 4.4013e-04\n",
      "Epoch 18/100\n",
      "2172/2188 [============================>.] - ETA: 0s - loss: 0.9557 - categorical_accuracy: 0.5942WARNING:tensorflow:Early stopping conditioned on metric `val_loss` which is not available. Available metrics are: loss,categorical_accuracy,lr\n",
      "2188/2188 [==============================] - 2s 721us/step - loss: 0.9557 - categorical_accuracy: 0.5943 - lr: 4.1812e-04\n",
      "Epoch 19/100\n",
      "2179/2188 [============================>.] - ETA: 0s - loss: 0.9556 - categorical_accuracy: 0.5943WARNING:tensorflow:Early stopping conditioned on metric `val_loss` which is not available. Available metrics are: loss,categorical_accuracy,lr\n",
      "2188/2188 [==============================] - 2s 743us/step - loss: 0.9557 - categorical_accuracy: 0.5943 - lr: 3.9721e-04\n",
      "Epoch 20/100\n",
      "2138/2188 [============================>.] - ETA: 0s - loss: 0.9558 - categorical_accuracy: 0.5942WARNING:tensorflow:Early stopping conditioned on metric `val_loss` which is not available. Available metrics are: loss,categorical_accuracy,lr\n",
      "2188/2188 [==============================] - 2s 737us/step - loss: 0.9557 - categorical_accuracy: 0.5943 - lr: 3.7735e-04\n",
      "Epoch 21/100\n",
      "2160/2188 [============================>.] - ETA: 0s - loss: 0.9558 - categorical_accuracy: 0.5942WARNING:tensorflow:Early stopping conditioned on metric `val_loss` which is not available. Available metrics are: loss,categorical_accuracy,lr\n",
      "2188/2188 [==============================] - 2s 748us/step - loss: 0.9557 - categorical_accuracy: 0.5943 - lr: 3.5849e-04\n",
      "Epoch 22/100\n",
      "2181/2188 [============================>.] - ETA: 0s - loss: 0.9557 - categorical_accuracy: 0.5943WARNING:tensorflow:Early stopping conditioned on metric `val_loss` which is not available. Available metrics are: loss,categorical_accuracy,lr\n",
      "2188/2188 [==============================] - 2s 743us/step - loss: 0.9556 - categorical_accuracy: 0.5943 - lr: 3.4056e-04\n"
     ]
    },
    {
     "name": "stdout",
     "output_type": "stream",
     "text": [
      "Epoch 23/100\n",
      "2151/2188 [============================>.] - ETA: 0s - loss: 0.9555 - categorical_accuracy: 0.5944WARNING:tensorflow:Early stopping conditioned on metric `val_loss` which is not available. Available metrics are: loss,categorical_accuracy,lr\n",
      "2188/2188 [==============================] - 2s 752us/step - loss: 0.9556 - categorical_accuracy: 0.5943 - lr: 3.2353e-04\n",
      "Epoch 24/100\n",
      "2149/2188 [============================>.] - ETA: 0s - loss: 0.9556 - categorical_accuracy: 0.5943WARNING:tensorflow:Early stopping conditioned on metric `val_loss` which is not available. Available metrics are: loss,categorical_accuracy,lr\n",
      "2188/2188 [==============================] - 2s 729us/step - loss: 0.9556 - categorical_accuracy: 0.5943 - lr: 3.0736e-04\n",
      "Epoch 25/100\n",
      "2160/2188 [============================>.] - ETA: 0s - loss: 0.9551 - categorical_accuracy: 0.5948WARNING:tensorflow:Early stopping conditioned on metric `val_loss` which is not available. Available metrics are: loss,categorical_accuracy,lr\n",
      "2188/2188 [==============================] - 2s 749us/step - loss: 0.9556 - categorical_accuracy: 0.5943 - lr: 2.9199e-04\n",
      "Epoch 26/100\n",
      "2162/2188 [============================>.] - ETA: 0s - loss: 0.9554 - categorical_accuracy: 0.5945WARNING:tensorflow:Early stopping conditioned on metric `val_loss` which is not available. Available metrics are: loss,categorical_accuracy,lr\n",
      "2188/2188 [==============================] - 2s 725us/step - loss: 0.9556 - categorical_accuracy: 0.5943 - lr: 2.7739e-04\n",
      "Epoch 27/100\n",
      "2185/2188 [============================>.] - ETA: 0s - loss: 0.9556 - categorical_accuracy: 0.5943WARNING:tensorflow:Early stopping conditioned on metric `val_loss` which is not available. Available metrics are: loss,categorical_accuracy,lr\n",
      "2188/2188 [==============================] - 2s 741us/step - loss: 0.9556 - categorical_accuracy: 0.5943 - lr: 2.6352e-04\n",
      "Epoch 28/100\n",
      "2180/2188 [============================>.] - ETA: 0s - loss: 0.9556 - categorical_accuracy: 0.5943WARNING:tensorflow:Early stopping conditioned on metric `val_loss` which is not available. Available metrics are: loss,categorical_accuracy,lr\n",
      "2188/2188 [==============================] - 2s 720us/step - loss: 0.9556 - categorical_accuracy: 0.5943 - lr: 2.5034e-04\n",
      "Epoch 29/100\n",
      "2188/2188 [==============================] - ETA: 0s - loss: 0.9556 - categorical_accuracy: 0.5943WARNING:tensorflow:Early stopping conditioned on metric `val_loss` which is not available. Available metrics are: loss,categorical_accuracy,lr\n",
      "2188/2188 [==============================] - 2s 739us/step - loss: 0.9556 - categorical_accuracy: 0.5943 - lr: 2.3783e-04\n",
      "Epoch 30/100\n",
      "2146/2188 [============================>.] - ETA: 0s - loss: 0.9556 - categorical_accuracy: 0.5943WARNING:tensorflow:Early stopping conditioned on metric `val_loss` which is not available. Available metrics are: loss,categorical_accuracy,lr\n",
      "2188/2188 [==============================] - 2s 728us/step - loss: 0.9556 - categorical_accuracy: 0.5943 - lr: 2.2594e-04\n",
      "Epoch 31/100\n",
      "2155/2188 [============================>.] - ETA: 0s - loss: 0.9554 - categorical_accuracy: 0.5945WARNING:tensorflow:Early stopping conditioned on metric `val_loss` which is not available. Available metrics are: loss,categorical_accuracy,lr\n",
      "2188/2188 [==============================] - 2s 725us/step - loss: 0.9556 - categorical_accuracy: 0.5943 - lr: 2.1464e-04\n",
      "Epoch 32/100\n",
      "2166/2188 [============================>.] - ETA: 0s - loss: 0.9559 - categorical_accuracy: 0.5941WARNING:tensorflow:Early stopping conditioned on metric `val_loss` which is not available. Available metrics are: loss,categorical_accuracy,lr\n",
      "2188/2188 [==============================] - 2s 724us/step - loss: 0.9556 - categorical_accuracy: 0.5943 - lr: 2.0391e-04\n",
      "Epoch 33/100\n",
      "2156/2188 [============================>.] - ETA: 0s - loss: 0.9559 - categorical_accuracy: 0.5940WARNING:tensorflow:Early stopping conditioned on metric `val_loss` which is not available. Available metrics are: loss,categorical_accuracy,lr\n",
      "2188/2188 [==============================] - 2s 727us/step - loss: 0.9556 - categorical_accuracy: 0.5943 - lr: 1.9371e-04\n",
      "Epoch 34/100\n",
      "2154/2188 [============================>.] - ETA: 0s - loss: 0.9557 - categorical_accuracy: 0.5942WARNING:tensorflow:Early stopping conditioned on metric `val_loss` which is not available. Available metrics are: loss,categorical_accuracy,lr\n",
      "2188/2188 [==============================] - 2s 727us/step - loss: 0.9556 - categorical_accuracy: 0.5943 - lr: 1.8403e-04\n",
      "Epoch 35/100\n",
      "2179/2188 [============================>.] - ETA: 0s - loss: 0.9556 - categorical_accuracy: 0.5943WARNING:tensorflow:Early stopping conditioned on metric `val_loss` which is not available. Available metrics are: loss,categorical_accuracy,lr\n",
      "2188/2188 [==============================] - 2s 741us/step - loss: 0.9556 - categorical_accuracy: 0.5943 - lr: 1.7482e-04\n",
      "Epoch 36/100\n",
      "2162/2188 [============================>.] - ETA: 0s - loss: 0.9557 - categorical_accuracy: 0.5942WARNING:tensorflow:Early stopping conditioned on metric `val_loss` which is not available. Available metrics are: loss,categorical_accuracy,lr\n",
      "2188/2188 [==============================] - 2s 727us/step - loss: 0.9556 - categorical_accuracy: 0.5943 - lr: 1.6608e-04\n",
      "Epoch 37/100\n",
      "2132/2188 [============================>.] - ETA: 0s - loss: 0.9554 - categorical_accuracy: 0.5944WARNING:tensorflow:Early stopping conditioned on metric `val_loss` which is not available. Available metrics are: loss,categorical_accuracy,lr\n",
      "2188/2188 [==============================] - 2s 734us/step - loss: 0.9556 - categorical_accuracy: 0.5943 - lr: 1.5778e-04\n",
      "Epoch 38/100\n",
      "2146/2188 [============================>.] - ETA: 0s - loss: 0.9554 - categorical_accuracy: 0.5944WARNING:tensorflow:Early stopping conditioned on metric `val_loss` which is not available. Available metrics are: loss,categorical_accuracy,lr\n",
      "2188/2188 [==============================] - 2s 731us/step - loss: 0.9556 - categorical_accuracy: 0.5943 - lr: 1.4989e-04\n",
      "Epoch 39/100\n",
      "2125/2188 [============================>.] - ETA: 0s - loss: 0.9558 - categorical_accuracy: 0.5941WARNING:tensorflow:Early stopping conditioned on metric `val_loss` which is not available. Available metrics are: loss,categorical_accuracy,lr\n",
      "2188/2188 [==============================] - 2s 737us/step - loss: 0.9556 - categorical_accuracy: 0.5943 - lr: 1.4240e-04\n",
      "Epoch 40/100\n",
      "2184/2188 [============================>.] - ETA: 0s - loss: 0.9557 - categorical_accuracy: 0.5943WARNING:tensorflow:Early stopping conditioned on metric `val_loss` which is not available. Available metrics are: loss,categorical_accuracy,lr\n",
      "2188/2188 [==============================] - 2s 740us/step - loss: 0.9556 - categorical_accuracy: 0.5943 - lr: 1.3528e-04\n",
      "Epoch 41/100\n",
      "2187/2188 [============================>.] - ETA: 0s - loss: 0.9556 - categorical_accuracy: 0.5943WARNING:tensorflow:Early stopping conditioned on metric `val_loss` which is not available. Available metrics are: loss,categorical_accuracy,lr\n",
      "2188/2188 [==============================] - 2s 740us/step - loss: 0.9556 - categorical_accuracy: 0.5943 - lr: 1.2851e-04\n",
      "Epoch 42/100\n",
      "2166/2188 [============================>.] - ETA: 0s - loss: 0.9556 - categorical_accuracy: 0.5943WARNING:tensorflow:Early stopping conditioned on metric `val_loss` which is not available. Available metrics are: loss,categorical_accuracy,lr\n",
      "2188/2188 [==============================] - 2s 724us/step - loss: 0.9556 - categorical_accuracy: 0.5943 - lr: 1.2209e-04\n",
      "Epoch 43/100\n",
      "2147/2188 [============================>.] - ETA: 0s - loss: 0.9557 - categorical_accuracy: 0.5942WARNING:tensorflow:Early stopping conditioned on metric `val_loss` which is not available. Available metrics are: loss,categorical_accuracy,lr\n",
      "2188/2188 [==============================] - 2s 732us/step - loss: 0.9556 - categorical_accuracy: 0.5943 - lr: 1.1598e-04\n",
      "Epoch 44/100\n",
      "2142/2188 [============================>.] - ETA: 0s - loss: 0.9559 - categorical_accuracy: 0.5940WARNING:tensorflow:Early stopping conditioned on metric `val_loss` which is not available. Available metrics are: loss,categorical_accuracy,lr\n",
      "2188/2188 [==============================] - 2s 732us/step - loss: 0.9556 - categorical_accuracy: 0.5943 - lr: 1.1018e-04\n"
     ]
    },
    {
     "name": "stdout",
     "output_type": "stream",
     "text": [
      "Epoch 45/100\n",
      "2138/2188 [============================>.] - ETA: 0s - loss: 0.9556 - categorical_accuracy: 0.5943WARNING:tensorflow:Early stopping conditioned on metric `val_loss` which is not available. Available metrics are: loss,categorical_accuracy,lr\n",
      "2188/2188 [==============================] - 2s 732us/step - loss: 0.9556 - categorical_accuracy: 0.5943 - lr: 1.0467e-04\n",
      "Epoch 46/100\n",
      "2145/2188 [============================>.] - ETA: 0s - loss: 0.9551 - categorical_accuracy: 0.5947WARNING:tensorflow:Early stopping conditioned on metric `val_loss` which is not available. Available metrics are: loss,categorical_accuracy,lr\n",
      "2188/2188 [==============================] - 2s 728us/step - loss: 0.9556 - categorical_accuracy: 0.5943 - lr: 9.9440e-05\n",
      "Epoch 47/100\n",
      "2133/2188 [============================>.] - ETA: 0s - loss: 0.9554 - categorical_accuracy: 0.5945WARNING:tensorflow:Early stopping conditioned on metric `val_loss` which is not available. Available metrics are: loss,categorical_accuracy,lr\n",
      "2188/2188 [==============================] - 2s 734us/step - loss: 0.9556 - categorical_accuracy: 0.5943 - lr: 9.4468e-05\n",
      "Epoch 48/100\n",
      "2145/2188 [============================>.] - ETA: 0s - loss: 0.9559 - categorical_accuracy: 0.5940WARNING:tensorflow:Early stopping conditioned on metric `val_loss` which is not available. Available metrics are: loss,categorical_accuracy,lr\n",
      "2188/2188 [==============================] - 2s 707us/step - loss: 0.9556 - categorical_accuracy: 0.5943 - lr: 8.9745e-05\n",
      "Epoch 49/100\n",
      "2172/2188 [============================>.] - ETA: 0s - loss: 0.9554 - categorical_accuracy: 0.5945WARNING:tensorflow:Early stopping conditioned on metric `val_loss` which is not available. Available metrics are: loss,categorical_accuracy,lr\n",
      "2188/2188 [==============================] - 2s 722us/step - loss: 0.9556 - categorical_accuracy: 0.5943 - lr: 8.5258e-05\n",
      "Epoch 50/100\n",
      "2170/2188 [============================>.] - ETA: 0s - loss: 0.9555 - categorical_accuracy: 0.5944WARNING:tensorflow:Early stopping conditioned on metric `val_loss` which is not available. Available metrics are: loss,categorical_accuracy,lr\n",
      "2188/2188 [==============================] - 2s 700us/step - loss: 0.9556 - categorical_accuracy: 0.5943 - lr: 8.0995e-05\n",
      "Epoch 51/100\n",
      "2152/2188 [============================>.] - ETA: 0s - loss: 0.9555 - categorical_accuracy: 0.5944WARNING:tensorflow:Early stopping conditioned on metric `val_loss` which is not available. Available metrics are: loss,categorical_accuracy,lr\n",
      "2188/2188 [==============================] - 2s 728us/step - loss: 0.9556 - categorical_accuracy: 0.5943 - lr: 7.6945e-05\n",
      "Epoch 52/100\n",
      "2151/2188 [============================>.] - ETA: 0s - loss: 0.9555 - categorical_accuracy: 0.5944WARNING:tensorflow:Early stopping conditioned on metric `val_loss` which is not available. Available metrics are: loss,categorical_accuracy,lr\n",
      "2188/2188 [==============================] - 2s 728us/step - loss: 0.9556 - categorical_accuracy: 0.5943 - lr: 7.3098e-05\n",
      "Epoch 53/100\n",
      "2147/2188 [============================>.] - ETA: 0s - loss: 0.9553 - categorical_accuracy: 0.5946WARNING:tensorflow:Early stopping conditioned on metric `val_loss` which is not available. Available metrics are: loss,categorical_accuracy,lr\n",
      "2188/2188 [==============================] - 2s 731us/step - loss: 0.9556 - categorical_accuracy: 0.5943 - lr: 6.9443e-05\n",
      "Epoch 54/100\n",
      "2164/2188 [============================>.] - ETA: 0s - loss: 0.9552 - categorical_accuracy: 0.5947WARNING:tensorflow:Early stopping conditioned on metric `val_loss` which is not available. Available metrics are: loss,categorical_accuracy,lr\n",
      "2188/2188 [==============================] - 2s 725us/step - loss: 0.9556 - categorical_accuracy: 0.5943 - lr: 6.5971e-05\n",
      "Epoch 55/100\n",
      "2165/2188 [============================>.] - ETA: 0s - loss: 0.9555 - categorical_accuracy: 0.5943WARNING:tensorflow:Early stopping conditioned on metric `val_loss` which is not available. Available metrics are: loss,categorical_accuracy,lr\n",
      "2188/2188 [==============================] - 2s 724us/step - loss: 0.9556 - categorical_accuracy: 0.5943 - lr: 6.2672e-05\n",
      "Epoch 56/100\n",
      "2188/2188 [==============================] - ETA: 0s - loss: 0.9556 - categorical_accuracy: 0.5943WARNING:tensorflow:Early stopping conditioned on metric `val_loss` which is not available. Available metrics are: loss,categorical_accuracy,lr\n",
      "2188/2188 [==============================] - 2s 717us/step - loss: 0.9556 - categorical_accuracy: 0.5943 - lr: 5.9539e-05\n",
      "Epoch 57/100\n",
      "2123/2188 [============================>.] - ETA: 0s - loss: 0.9559 - categorical_accuracy: 0.5940WARNING:tensorflow:Early stopping conditioned on metric `val_loss` which is not available. Available metrics are: loss,categorical_accuracy,lr\n",
      "2188/2188 [==============================] - 2s 737us/step - loss: 0.9556 - categorical_accuracy: 0.5943 - lr: 5.6562e-05\n",
      "Epoch 58/100\n",
      "2139/2188 [============================>.] - ETA: 0s - loss: 0.9555 - categorical_accuracy: 0.5944WARNING:tensorflow:Early stopping conditioned on metric `val_loss` which is not available. Available metrics are: loss,categorical_accuracy,lr\n",
      "2188/2188 [==============================] - 2s 709us/step - loss: 0.9556 - categorical_accuracy: 0.5943 - lr: 5.3734e-05\n",
      "Epoch 59/100\n",
      "2175/2188 [============================>.] - ETA: 0s - loss: 0.9555 - categorical_accuracy: 0.5944WARNING:tensorflow:Early stopping conditioned on metric `val_loss` which is not available. Available metrics are: loss,categorical_accuracy,lr\n",
      "2188/2188 [==============================] - 2s 720us/step - loss: 0.9556 - categorical_accuracy: 0.5943 - lr: 5.1047e-05\n",
      "Epoch 60/100\n",
      "2144/2188 [============================>.] - ETA: 0s - loss: 0.9557 - categorical_accuracy: 0.5941WARNING:tensorflow:Early stopping conditioned on metric `val_loss` which is not available. Available metrics are: loss,categorical_accuracy,lr\n",
      "2188/2188 [==============================] - 2s 708us/step - loss: 0.9556 - categorical_accuracy: 0.5943 - lr: 4.8495e-05\n",
      "Epoch 61/100\n",
      "2184/2188 [============================>.] - ETA: 0s - loss: 0.9557 - categorical_accuracy: 0.5942WARNING:tensorflow:Early stopping conditioned on metric `val_loss` which is not available. Available metrics are: loss,categorical_accuracy,lr\n",
      "2188/2188 [==============================] - 2s 740us/step - loss: 0.9556 - categorical_accuracy: 0.5943 - lr: 4.6070e-05\n",
      "Epoch 62/100\n",
      "2134/2188 [============================>.] - ETA: 0s - loss: 0.9553 - categorical_accuracy: 0.5946WARNING:tensorflow:Early stopping conditioned on metric `val_loss` which is not available. Available metrics are: loss,categorical_accuracy,lr\n",
      "2188/2188 [==============================] - 2s 713us/step - loss: 0.9556 - categorical_accuracy: 0.5943 - lr: 4.3766e-05\n",
      "Epoch 63/100\n",
      "2131/2188 [============================>.] - ETA: 0s - loss: 0.9558 - categorical_accuracy: 0.5941WARNING:tensorflow:Early stopping conditioned on metric `val_loss` which is not available. Available metrics are: loss,categorical_accuracy,lr\n",
      "2188/2188 [==============================] - 2s 713us/step - loss: 0.9556 - categorical_accuracy: 0.5943 - lr: 4.1578e-05\n",
      "Epoch 64/100\n",
      "2147/2188 [============================>.] - ETA: 0s - loss: 0.9559 - categorical_accuracy: 0.5940WARNING:tensorflow:Early stopping conditioned on metric `val_loss` which is not available. Available metrics are: loss,categorical_accuracy,lr\n",
      "2188/2188 [==============================] - 2s 731us/step - loss: 0.9556 - categorical_accuracy: 0.5943 - lr: 3.9499e-05\n",
      "Epoch 65/100\n",
      "2155/2188 [============================>.] - ETA: 0s - loss: 0.9558 - categorical_accuracy: 0.5941WARNING:tensorflow:Early stopping conditioned on metric `val_loss` which is not available. Available metrics are: loss,categorical_accuracy,lr\n",
      "2188/2188 [==============================] - 2s 727us/step - loss: 0.9556 - categorical_accuracy: 0.5943 - lr: 3.7524e-05\n",
      "Epoch 66/100\n",
      "2141/2188 [============================>.] - ETA: 0s - loss: 0.9558 - categorical_accuracy: 0.5941WARNING:tensorflow:Early stopping conditioned on metric `val_loss` which is not available. Available metrics are: loss,categorical_accuracy,lr\n",
      "2188/2188 [==============================] - 2s 733us/step - loss: 0.9556 - categorical_accuracy: 0.5943 - lr: 3.5648e-05\n"
     ]
    },
    {
     "name": "stdout",
     "output_type": "stream",
     "text": [
      "Epoch 67/100\n",
      "2183/2188 [============================>.] - ETA: 0s - loss: 0.9554 - categorical_accuracy: 0.5945WARNING:tensorflow:Early stopping conditioned on metric `val_loss` which is not available. Available metrics are: loss,categorical_accuracy,lr\n",
      "2188/2188 [==============================] - 2s 741us/step - loss: 0.9556 - categorical_accuracy: 0.5943 - lr: 3.3866e-05\n",
      "Epoch 68/100\n",
      "2140/2188 [============================>.] - ETA: 0s - loss: 0.9557 - categorical_accuracy: 0.5942WARNING:tensorflow:Early stopping conditioned on metric `val_loss` which is not available. Available metrics are: loss,categorical_accuracy,lr\n",
      "2188/2188 [==============================] - 2s 730us/step - loss: 0.9556 - categorical_accuracy: 0.5943 - lr: 3.2172e-05\n",
      "Epoch 69/100\n",
      "2119/2188 [============================>.] - ETA: 0s - loss: 0.9555 - categorical_accuracy: 0.5944WARNING:tensorflow:Early stopping conditioned on metric `val_loss` which is not available. Available metrics are: loss,categorical_accuracy,lr\n",
      "2188/2188 [==============================] - 2s 739us/step - loss: 0.9556 - categorical_accuracy: 0.5943 - lr: 3.0564e-05\n",
      "Epoch 70/100\n",
      "2137/2188 [============================>.] - ETA: 0s - loss: 0.9558 - categorical_accuracy: 0.5941WARNING:tensorflow:Early stopping conditioned on metric `val_loss` which is not available. Available metrics are: loss,categorical_accuracy,lr\n",
      "2188/2188 [==============================] - 2s 733us/step - loss: 0.9556 - categorical_accuracy: 0.5943 - lr: 2.9035e-05\n",
      "Epoch 71/100\n",
      "2120/2188 [============================>.] - ETA: 0s - loss: 0.9561 - categorical_accuracy: 0.5938WARNING:tensorflow:Early stopping conditioned on metric `val_loss` which is not available. Available metrics are: loss,categorical_accuracy,lr\n",
      "2188/2188 [==============================] - 2s 738us/step - loss: 0.9556 - categorical_accuracy: 0.5943 - lr: 2.7584e-05\n",
      "Epoch 72/100\n",
      "2126/2188 [============================>.] - ETA: 0s - loss: 0.9551 - categorical_accuracy: 0.5948WARNING:tensorflow:Early stopping conditioned on metric `val_loss` which is not available. Available metrics are: loss,categorical_accuracy,lr\n",
      "2188/2188 [==============================] - 2s 715us/step - loss: 0.9556 - categorical_accuracy: 0.5943 - lr: 2.6205e-05\n",
      "Epoch 73/100\n",
      "2177/2188 [============================>.] - ETA: 0s - loss: 0.9556 - categorical_accuracy: 0.5943WARNING:tensorflow:Early stopping conditioned on metric `val_loss` which is not available. Available metrics are: loss,categorical_accuracy,lr\n",
      "2188/2188 [==============================] - 2s 720us/step - loss: 0.9556 - categorical_accuracy: 0.5943 - lr: 2.4894e-05\n",
      "Epoch 74/100\n",
      "2123/2188 [============================>.] - ETA: 0s - loss: 0.9555 - categorical_accuracy: 0.5944WARNING:tensorflow:Early stopping conditioned on metric `val_loss` which is not available. Available metrics are: loss,categorical_accuracy,lr\n",
      "2188/2188 [==============================] - 2s 715us/step - loss: 0.9556 - categorical_accuracy: 0.5943 - lr: 2.3650e-05\n",
      "Epoch 75/100\n",
      "2179/2188 [============================>.] - ETA: 0s - loss: 0.9556 - categorical_accuracy: 0.5943WARNING:tensorflow:Early stopping conditioned on metric `val_loss` which is not available. Available metrics are: loss,categorical_accuracy,lr\n",
      "2188/2188 [==============================] - 2s 790us/step - loss: 0.9556 - categorical_accuracy: 0.5943 - lr: 2.2467e-05\n",
      "Epoch 76/100\n",
      "2165/2188 [============================>.] - ETA: 0s - loss: 0.9555 - categorical_accuracy: 0.5944WARNING:tensorflow:Early stopping conditioned on metric `val_loss` which is not available. Available metrics are: loss,categorical_accuracy,lr\n",
      "2188/2188 [==============================] - 2s 747us/step - loss: 0.9556 - categorical_accuracy: 0.5943 - lr: 2.1344e-05\n",
      "Epoch 77/100\n",
      "2130/2188 [============================>.] - ETA: 0s - loss: 0.9554 - categorical_accuracy: 0.5944WARNING:tensorflow:Early stopping conditioned on metric `val_loss` which is not available. Available metrics are: loss,categorical_accuracy,lr\n",
      "2188/2188 [==============================] - 2s 735us/step - loss: 0.9556 - categorical_accuracy: 0.5943 - lr: 2.0277e-05\n",
      "Epoch 78/100\n",
      "2188/2188 [==============================] - ETA: 0s - loss: 0.9556 - categorical_accuracy: 0.5943WARNING:tensorflow:Early stopping conditioned on metric `val_loss` which is not available. Available metrics are: loss,categorical_accuracy,lr\n",
      "2188/2188 [==============================] - 2s 718us/step - loss: 0.9556 - categorical_accuracy: 0.5943 - lr: 1.9263e-05\n",
      "Epoch 79/100\n",
      "2148/2188 [============================>.] - ETA: 0s - loss: 0.9557 - categorical_accuracy: 0.5942WARNING:tensorflow:Early stopping conditioned on metric `val_loss` which is not available. Available metrics are: loss,categorical_accuracy,lr\n",
      "2188/2188 [==============================] - 2s 754us/step - loss: 0.9556 - categorical_accuracy: 0.5943 - lr: 1.8300e-05\n",
      "Epoch 80/100\n",
      "2156/2188 [============================>.] - ETA: 0s - loss: 0.9556 - categorical_accuracy: 0.5943WARNING:tensorflow:Early stopping conditioned on metric `val_loss` which is not available. Available metrics are: loss,categorical_accuracy,lr\n",
      "2188/2188 [==============================] - 2s 704us/step - loss: 0.9556 - categorical_accuracy: 0.5943 - lr: 1.7385e-05\n",
      "Epoch 81/100\n",
      "2152/2188 [============================>.] - ETA: 0s - loss: 0.9548 - categorical_accuracy: 0.5950WARNING:tensorflow:Early stopping conditioned on metric `val_loss` which is not available. Available metrics are: loss,categorical_accuracy,lr\n",
      "2188/2188 [==============================] - 2s 706us/step - loss: 0.9556 - categorical_accuracy: 0.5943 - lr: 1.6515e-05\n",
      "Epoch 82/100\n",
      "2173/2188 [============================>.] - ETA: 0s - loss: 0.9554 - categorical_accuracy: 0.5944WARNING:tensorflow:Early stopping conditioned on metric `val_loss` which is not available. Available metrics are: loss,categorical_accuracy,lr\n",
      "2188/2188 [==============================] - 2s 701us/step - loss: 0.9556 - categorical_accuracy: 0.5943 - lr: 1.5690e-05\n",
      "Epoch 83/100\n",
      "2129/2188 [============================>.] - ETA: 0s - loss: 0.9558 - categorical_accuracy: 0.5941WARNING:tensorflow:Early stopping conditioned on metric `val_loss` which is not available. Available metrics are: loss,categorical_accuracy,lr\n",
      "2188/2188 [==============================] - 2s 712us/step - loss: 0.9556 - categorical_accuracy: 0.5943 - lr: 1.4905e-05\n",
      "Epoch 84/100\n",
      "2151/2188 [============================>.] - ETA: 0s - loss: 0.9561 - categorical_accuracy: 0.5939WARNING:tensorflow:Early stopping conditioned on metric `val_loss` which is not available. Available metrics are: loss,categorical_accuracy,lr\n",
      "2188/2188 [==============================] - 2s 730us/step - loss: 0.9556 - categorical_accuracy: 0.5943 - lr: 1.4160e-05\n",
      "Epoch 85/100\n",
      "2154/2188 [============================>.] - ETA: 0s - loss: 0.9553 - categorical_accuracy: 0.5945WARNING:tensorflow:Early stopping conditioned on metric `val_loss` which is not available. Available metrics are: loss,categorical_accuracy,lr\n",
      "2188/2188 [==============================] - 2s 728us/step - loss: 0.9556 - categorical_accuracy: 0.5943 - lr: 1.3452e-05\n",
      "Epoch 86/100\n",
      "2167/2188 [============================>.] - ETA: 0s - loss: 0.9554 - categorical_accuracy: 0.5945WARNING:tensorflow:Early stopping conditioned on metric `val_loss` which is not available. Available metrics are: loss,categorical_accuracy,lr\n",
      "2188/2188 [==============================] - 2s 725us/step - loss: 0.9556 - categorical_accuracy: 0.5943 - lr: 1.2779e-05\n",
      "Epoch 87/100\n",
      "2145/2188 [============================>.] - ETA: 0s - loss: 0.9559 - categorical_accuracy: 0.5940WARNING:tensorflow:Early stopping conditioned on metric `val_loss` which is not available. Available metrics are: loss,categorical_accuracy,lr\n",
      "2188/2188 [==============================] - 2s 732us/step - loss: 0.9556 - categorical_accuracy: 0.5943 - lr: 1.2140e-05\n",
      "Epoch 88/100\n",
      "2155/2188 [============================>.] - ETA: 0s - loss: 0.9556 - categorical_accuracy: 0.5943WARNING:tensorflow:Early stopping conditioned on metric `val_loss` which is not available. Available metrics are: loss,categorical_accuracy,lr\n",
      "2188/2188 [==============================] - 2s 728us/step - loss: 0.9556 - categorical_accuracy: 0.5943 - lr: 1.1533e-05\n"
     ]
    },
    {
     "name": "stdout",
     "output_type": "stream",
     "text": [
      "Epoch 89/100\n",
      "2181/2188 [============================>.] - ETA: 0s - loss: 0.9556 - categorical_accuracy: 0.5943WARNING:tensorflow:Early stopping conditioned on metric `val_loss` which is not available. Available metrics are: loss,categorical_accuracy,lr\n",
      "2188/2188 [==============================] - 2s 742us/step - loss: 0.9556 - categorical_accuracy: 0.5943 - lr: 1.0957e-05\n",
      "Epoch 90/100\n",
      "2169/2188 [============================>.] - ETA: 0s - loss: 0.9553 - categorical_accuracy: 0.5946WARNING:tensorflow:Early stopping conditioned on metric `val_loss` which is not available. Available metrics are: loss,categorical_accuracy,lr\n",
      "2188/2188 [==============================] - 2s 723us/step - loss: 0.9556 - categorical_accuracy: 0.5943 - lr: 1.0409e-05\n",
      "Epoch 91/100\n",
      "2160/2188 [============================>.] - ETA: 0s - loss: 0.9552 - categorical_accuracy: 0.5947WARNING:tensorflow:Early stopping conditioned on metric `val_loss` which is not available. Available metrics are: loss,categorical_accuracy,lr\n",
      "2188/2188 [==============================] - 2s 726us/step - loss: 0.9556 - categorical_accuracy: 0.5943 - lr: 9.8884e-06\n",
      "Epoch 92/100\n",
      "2125/2188 [============================>.] - ETA: 0s - loss: 0.9553 - categorical_accuracy: 0.5946WARNING:tensorflow:Early stopping conditioned on metric `val_loss` which is not available. Available metrics are: loss,categorical_accuracy,lr\n",
      "2188/2188 [==============================] - 2s 713us/step - loss: 0.9556 - categorical_accuracy: 0.5943 - lr: 9.3939e-06\n",
      "Epoch 93/100\n",
      "2118/2188 [============================>.] - ETA: 0s - loss: 0.9560 - categorical_accuracy: 0.5939WARNING:tensorflow:Early stopping conditioned on metric `val_loss` which is not available. Available metrics are: loss,categorical_accuracy,lr\n",
      "2188/2188 [==============================] - 2s 715us/step - loss: 0.9556 - categorical_accuracy: 0.5943 - lr: 8.9242e-06\n",
      "Epoch 94/100\n",
      "2155/2188 [============================>.] - ETA: 0s - loss: 0.9554 - categorical_accuracy: 0.5944WARNING:tensorflow:Early stopping conditioned on metric `val_loss` which is not available. Available metrics are: loss,categorical_accuracy,lr\n",
      "2188/2188 [==============================] - 2s 704us/step - loss: 0.9556 - categorical_accuracy: 0.5943 - lr: 8.4780e-06\n",
      "Epoch 95/100\n",
      "2120/2188 [============================>.] - ETA: 0s - loss: 0.9553 - categorical_accuracy: 0.5945WARNING:tensorflow:Early stopping conditioned on metric `val_loss` which is not available. Available metrics are: loss,categorical_accuracy,lr\n",
      "2188/2188 [==============================] - 2s 715us/step - loss: 0.9556 - categorical_accuracy: 0.5943 - lr: 8.0541e-06\n",
      "Epoch 96/100\n",
      "2167/2188 [============================>.] - ETA: 0s - loss: 0.9558 - categorical_accuracy: 0.5941WARNING:tensorflow:Early stopping conditioned on metric `val_loss` which is not available. Available metrics are: loss,categorical_accuracy,lr\n",
      "2188/2188 [==============================] - 2s 701us/step - loss: 0.9556 - categorical_accuracy: 0.5943 - lr: 7.6514e-06\n",
      "Epoch 97/100\n",
      "2145/2188 [============================>.] - ETA: 0s - loss: 0.9556 - categorical_accuracy: 0.5943WARNING:tensorflow:Early stopping conditioned on metric `val_loss` which is not available. Available metrics are: loss,categorical_accuracy,lr\n",
      "2188/2188 [==============================] - 2s 706us/step - loss: 0.9556 - categorical_accuracy: 0.5943 - lr: 7.2689e-06\n",
      "Epoch 98/100\n",
      "2144/2188 [============================>.] - ETA: 0s - loss: 0.9559 - categorical_accuracy: 0.5941WARNING:tensorflow:Early stopping conditioned on metric `val_loss` which is not available. Available metrics are: loss,categorical_accuracy,lr\n",
      "2188/2188 [==============================] - 2s 707us/step - loss: 0.9556 - categorical_accuracy: 0.5943 - lr: 6.9054e-06\n",
      "Epoch 99/100\n",
      "2163/2188 [============================>.] - ETA: 0s - loss: 0.9555 - categorical_accuracy: 0.5943WARNING:tensorflow:Early stopping conditioned on metric `val_loss` which is not available. Available metrics are: loss,categorical_accuracy,lr\n",
      "2188/2188 [==============================] - 2s 701us/step - loss: 0.9556 - categorical_accuracy: 0.5943 - lr: 6.5601e-06\n",
      "Epoch 100/100\n",
      "2132/2188 [============================>.] - ETA: 0s - loss: 0.9556 - categorical_accuracy: 0.5942WARNING:tensorflow:Early stopping conditioned on metric `val_loss` which is not available. Available metrics are: loss,categorical_accuracy,lr\n",
      "2188/2188 [==============================] - 2s 736us/step - loss: 0.9556 - categorical_accuracy: 0.5943 - lr: 6.2321e-06\n"
     ]
    }
   ],
   "source": [
    "early_stop = tf.keras.callbacks.EarlyStopping( monitor = 'val_loss', patience = 15,verbose = 1, \n",
    "                                              restore_best_weights = True)\n",
    "\n",
    "reduce_lr = tf.keras.callbacks.LearningRateScheduler(scheduler)\n",
    "history = model.fit(X_train,y_traincat, epochs= 100, callbacks=[reduce_lr, early_stop])"
   ]
  },
  {
   "cell_type": "code",
   "execution_count": null,
   "id": "ff2e4a38",
   "metadata": {},
   "outputs": [],
   "source": []
  },
  {
   "cell_type": "code",
   "execution_count": null,
   "id": "e38b4e28",
   "metadata": {
    "ExecuteTime": {
     "start_time": "2022-12-02T05:50:36.436Z"
    }
   },
   "outputs": [
    {
     "name": "stdout",
     "output_type": "stream",
     "text": [
      "Epoch 1/50\n",
      "2188/2188 [==============================] - 2s 743us/step - loss: 0.9558 - categorical_accuracy: 0.5943\n",
      "Epoch 2/50\n",
      "2188/2188 [==============================] - 2s 743us/step - loss: 0.9557 - categorical_accuracy: 0.5943\n",
      "Epoch 3/50\n",
      "2188/2188 [==============================] - 2s 733us/step - loss: 0.9558 - categorical_accuracy: 0.5943\n",
      "Epoch 4/50\n",
      "2188/2188 [==============================] - 2s 739us/step - loss: 0.9558 - categorical_accuracy: 0.5943\n",
      "Epoch 5/50\n",
      "2188/2188 [==============================] - 2s 727us/step - loss: 0.9558 - categorical_accuracy: 0.5943\n",
      "Epoch 6/50\n",
      "2188/2188 [==============================] - 2s 736us/step - loss: 0.9558 - categorical_accuracy: 0.5943\n",
      "Epoch 7/50\n",
      "2188/2188 [==============================] - 2s 734us/step - loss: 0.9558 - categorical_accuracy: 0.5943\n",
      "Epoch 8/50\n",
      "2188/2188 [==============================] - 2s 742us/step - loss: 0.9557 - categorical_accuracy: 0.5943\n",
      "Epoch 9/50\n",
      "2188/2188 [==============================] - 2s 723us/step - loss: 0.9557 - categorical_accuracy: 0.5943\n",
      "Epoch 10/50\n",
      "2188/2188 [==============================] - 2s 767us/step - loss: 0.9558 - categorical_accuracy: 0.5943\n",
      "Epoch 11/50\n",
      "1348/2188 [=================>............] - ETA: 0s - loss: 0.9559 - categorical_accuracy: 0.5942"
     ]
    }
   ],
   "source": [
    "model.fit(X_train, y_traincat, epochs=50)"
   ]
  },
  {
   "cell_type": "code",
   "execution_count": null,
   "id": "e13ae327",
   "metadata": {},
   "outputs": [],
   "source": []
  },
  {
   "cell_type": "code",
   "execution_count": null,
   "id": "b1ec80bf",
   "metadata": {},
   "outputs": [],
   "source": []
  },
  {
   "cell_type": "code",
   "execution_count": null,
   "id": "bd002f9e",
   "metadata": {},
   "outputs": [],
   "source": []
  }
 ],
 "metadata": {
  "hide_input": false,
  "kernelspec": {
   "display_name": "Python 3 (ipykernel)",
   "language": "python",
   "name": "python3"
  },
  "language_info": {
   "codemirror_mode": {
    "name": "ipython",
    "version": 3
   },
   "file_extension": ".py",
   "mimetype": "text/x-python",
   "name": "python",
   "nbconvert_exporter": "python",
   "pygments_lexer": "ipython3",
   "version": "3.9.12"
  },
  "toc": {
   "base_numbering": 1,
   "nav_menu": {},
   "number_sections": true,
   "sideBar": true,
   "skip_h1_title": false,
   "title_cell": "Table of Contents",
   "title_sidebar": "Contents",
   "toc_cell": false,
   "toc_position": {},
   "toc_section_display": true,
   "toc_window_display": false
  },
  "varInspector": {
   "cols": {
    "lenName": 16,
    "lenType": 16,
    "lenVar": 40
   },
   "kernels_config": {
    "python": {
     "delete_cmd_postfix": "",
     "delete_cmd_prefix": "del ",
     "library": "var_list.py",
     "varRefreshCmd": "print(var_dic_list())"
    },
    "r": {
     "delete_cmd_postfix": ") ",
     "delete_cmd_prefix": "rm(",
     "library": "var_list.r",
     "varRefreshCmd": "cat(var_dic_list()) "
    }
   },
   "types_to_exclude": [
    "module",
    "function",
    "builtin_function_or_method",
    "instance",
    "_Feature"
   ],
   "window_display": false
  }
 },
 "nbformat": 4,
 "nbformat_minor": 5
}
